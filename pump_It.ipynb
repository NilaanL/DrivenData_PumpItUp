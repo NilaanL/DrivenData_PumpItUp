{
  "nbformat": 4,
  "nbformat_minor": 0,
  "metadata": {
    "kernelspec": {
      "display_name": "Python 3",
      "language": "python",
      "name": "python3"
    },
    "language_info": {
      "codemirror_mode": {
        "name": "ipython",
        "version": 3
      },
      "file_extension": ".py",
      "mimetype": "text/x-python",
      "name": "python",
      "nbconvert_exporter": "python",
      "pygments_lexer": "ipython3",
      "version": "3.6.5"
    },
    "colab": {
      "name": "pump It data_visualisation_and_cleaning.ipynb",
      "provenance": [],
      "collapsed_sections": []
    }
  },
  "cells": [
    {
      "cell_type": "code",
      "metadata": {
        "id": "yjyKrqBxmvG1"
      },
      "source": [
        "# from google.colab import drive\n",
        "# drive.mount('/content/drive')"
      ],
      "execution_count": null,
      "outputs": []
    },
    {
      "cell_type": "markdown",
      "metadata": {
        "id": "9HZeeeiXmYRc"
      },
      "source": [
        "## import libraries "
      ]
    },
    {
      "cell_type": "code",
      "metadata": {
        "id": "Al2xHqygmJmE"
      },
      "source": [
        "import pandas as pd\n",
        "import numpy as np\n",
        "import matplotlib.pyplot as plt\n",
        "import seaborn as sns\n",
        "from sklearn import preprocessing\n",
        "from sklearn.model_selection import train_test_split\n",
        "from sklearn.ensemble import RandomForestClassifier\n",
        "from sklearn.feature_selection import RFECV\n",
        "from sklearn.model_selection import StratifiedKFold\n",
        "from sklearn.metrics import accuracy_score, recall_score, precision_score, f1_score, precision_recall_fscore_support, \\\n",
        "    confusion_matrix\n",
        "# from sklearn.datasets import make_classification\n",
        "# from sklearn import discriminant_analysis"
      ],
      "execution_count": 4,
      "outputs": []
    },
    {
      "cell_type": "markdown",
      "metadata": {
        "id": "jpq86btIc-da"
      },
      "source": [
        "## funtions run this"
      ]
    },
    {
      "cell_type": "code",
      "metadata": {
        "id": "-Iupf8EE5cyq"
      },
      "source": [
        "def compute_metrics(pred,ground_labels):\n",
        "    labels_all = ground_labels\n",
        "    preds_all = list(pred)\n",
        "    \n",
        "    precision, recall, f1, _ = precision_recall_fscore_support(labels_all, preds_all)\n",
        "    acc = accuracy_score(labels_all, preds_all)\n",
        "    confusion_mat = confusion_matrix(labels_all, preds_all)\n",
        "    # tn, fp, fn, tp = confusiton_mat.ravel()\n",
        "    out_dict = {\n",
        "        'accuracy': acc,\n",
        "        'f1': f1,\n",
        "        'precision': precision,\n",
        "        'recall': recall,\n",
        "        'confusiton_mat': confusion_mat\n",
        "    }\n",
        "    return out_dict"
      ],
      "execution_count": 5,
      "outputs": []
    },
    {
      "cell_type": "markdown",
      "metadata": {
        "id": "6K2_E58MQkBz"
      },
      "source": [
        "## read data"
      ]
    },
    {
      "cell_type": "code",
      "metadata": {
        "id": "mcXUfYdCmJmI"
      },
      "source": [
        "training_labels=pd.read_csv('training_label.csv')\n",
        "training_values=pd.read_csv('training_values.csv')\n",
        "data = training_values.merge(training_labels, on='id')\n",
        "\n",
        "test_=pd.read_csv('test_values.csv')"
      ],
      "execution_count": 263,
      "outputs": []
    },
    {
      "cell_type": "code",
      "metadata": {
        "id": "XnV-Y9yiw2B7",
        "colab": {
          "base_uri": "https://localhost:8080/",
          "height": 408
        },
        "outputId": "ea4b831e-b0f4-445f-a485-bfb401441c61"
      },
      "source": [
        "data.head()"
      ],
      "execution_count": 264,
      "outputs": [
        {
          "output_type": "execute_result",
          "data": {
            "text/html": [
              "<div>\n",
              "<style scoped>\n",
              "    .dataframe tbody tr th:only-of-type {\n",
              "        vertical-align: middle;\n",
              "    }\n",
              "\n",
              "    .dataframe tbody tr th {\n",
              "        vertical-align: top;\n",
              "    }\n",
              "\n",
              "    .dataframe thead th {\n",
              "        text-align: right;\n",
              "    }\n",
              "</style>\n",
              "<table border=\"1\" class=\"dataframe\">\n",
              "  <thead>\n",
              "    <tr style=\"text-align: right;\">\n",
              "      <th></th>\n",
              "      <th>id</th>\n",
              "      <th>amount_tsh</th>\n",
              "      <th>date_recorded</th>\n",
              "      <th>funder</th>\n",
              "      <th>gps_height</th>\n",
              "      <th>installer</th>\n",
              "      <th>longitude</th>\n",
              "      <th>latitude</th>\n",
              "      <th>wpt_name</th>\n",
              "      <th>num_private</th>\n",
              "      <th>basin</th>\n",
              "      <th>subvillage</th>\n",
              "      <th>region</th>\n",
              "      <th>region_code</th>\n",
              "      <th>district_code</th>\n",
              "      <th>lga</th>\n",
              "      <th>ward</th>\n",
              "      <th>population</th>\n",
              "      <th>public_meeting</th>\n",
              "      <th>recorded_by</th>\n",
              "      <th>scheme_management</th>\n",
              "      <th>scheme_name</th>\n",
              "      <th>permit</th>\n",
              "      <th>construction_year</th>\n",
              "      <th>extraction_type</th>\n",
              "      <th>extraction_type_group</th>\n",
              "      <th>extraction_type_class</th>\n",
              "      <th>management</th>\n",
              "      <th>management_group</th>\n",
              "      <th>payment</th>\n",
              "      <th>payment_type</th>\n",
              "      <th>water_quality</th>\n",
              "      <th>quality_group</th>\n",
              "      <th>quantity</th>\n",
              "      <th>quantity_group</th>\n",
              "      <th>source</th>\n",
              "      <th>source_type</th>\n",
              "      <th>source_class</th>\n",
              "      <th>waterpoint_type</th>\n",
              "      <th>waterpoint_type_group</th>\n",
              "      <th>status_group</th>\n",
              "    </tr>\n",
              "  </thead>\n",
              "  <tbody>\n",
              "    <tr>\n",
              "      <th>0</th>\n",
              "      <td>69572</td>\n",
              "      <td>6000.0</td>\n",
              "      <td>2011-03-14</td>\n",
              "      <td>Roman</td>\n",
              "      <td>1390</td>\n",
              "      <td>Roman</td>\n",
              "      <td>34.938093</td>\n",
              "      <td>-9.856322</td>\n",
              "      <td>none</td>\n",
              "      <td>0</td>\n",
              "      <td>Lake Nyasa</td>\n",
              "      <td>Mnyusi B</td>\n",
              "      <td>Iringa</td>\n",
              "      <td>11</td>\n",
              "      <td>5</td>\n",
              "      <td>Ludewa</td>\n",
              "      <td>Mundindi</td>\n",
              "      <td>109</td>\n",
              "      <td>True</td>\n",
              "      <td>GeoData Consultants Ltd</td>\n",
              "      <td>VWC</td>\n",
              "      <td>Roman</td>\n",
              "      <td>False</td>\n",
              "      <td>1999</td>\n",
              "      <td>gravity</td>\n",
              "      <td>gravity</td>\n",
              "      <td>gravity</td>\n",
              "      <td>vwc</td>\n",
              "      <td>user-group</td>\n",
              "      <td>pay annually</td>\n",
              "      <td>annually</td>\n",
              "      <td>soft</td>\n",
              "      <td>good</td>\n",
              "      <td>enough</td>\n",
              "      <td>enough</td>\n",
              "      <td>spring</td>\n",
              "      <td>spring</td>\n",
              "      <td>groundwater</td>\n",
              "      <td>communal standpipe</td>\n",
              "      <td>communal standpipe</td>\n",
              "      <td>functional</td>\n",
              "    </tr>\n",
              "    <tr>\n",
              "      <th>1</th>\n",
              "      <td>8776</td>\n",
              "      <td>0.0</td>\n",
              "      <td>2013-03-06</td>\n",
              "      <td>Grumeti</td>\n",
              "      <td>1399</td>\n",
              "      <td>GRUMETI</td>\n",
              "      <td>34.698766</td>\n",
              "      <td>-2.147466</td>\n",
              "      <td>Zahanati</td>\n",
              "      <td>0</td>\n",
              "      <td>Lake Victoria</td>\n",
              "      <td>Nyamara</td>\n",
              "      <td>Mara</td>\n",
              "      <td>20</td>\n",
              "      <td>2</td>\n",
              "      <td>Serengeti</td>\n",
              "      <td>Natta</td>\n",
              "      <td>280</td>\n",
              "      <td>NaN</td>\n",
              "      <td>GeoData Consultants Ltd</td>\n",
              "      <td>Other</td>\n",
              "      <td>NaN</td>\n",
              "      <td>True</td>\n",
              "      <td>2010</td>\n",
              "      <td>gravity</td>\n",
              "      <td>gravity</td>\n",
              "      <td>gravity</td>\n",
              "      <td>wug</td>\n",
              "      <td>user-group</td>\n",
              "      <td>never pay</td>\n",
              "      <td>never pay</td>\n",
              "      <td>soft</td>\n",
              "      <td>good</td>\n",
              "      <td>insufficient</td>\n",
              "      <td>insufficient</td>\n",
              "      <td>rainwater harvesting</td>\n",
              "      <td>rainwater harvesting</td>\n",
              "      <td>surface</td>\n",
              "      <td>communal standpipe</td>\n",
              "      <td>communal standpipe</td>\n",
              "      <td>functional</td>\n",
              "    </tr>\n",
              "    <tr>\n",
              "      <th>2</th>\n",
              "      <td>34310</td>\n",
              "      <td>25.0</td>\n",
              "      <td>2013-02-25</td>\n",
              "      <td>Lottery Club</td>\n",
              "      <td>686</td>\n",
              "      <td>World vision</td>\n",
              "      <td>37.460664</td>\n",
              "      <td>-3.821329</td>\n",
              "      <td>Kwa Mahundi</td>\n",
              "      <td>0</td>\n",
              "      <td>Pangani</td>\n",
              "      <td>Majengo</td>\n",
              "      <td>Manyara</td>\n",
              "      <td>21</td>\n",
              "      <td>4</td>\n",
              "      <td>Simanjiro</td>\n",
              "      <td>Ngorika</td>\n",
              "      <td>250</td>\n",
              "      <td>True</td>\n",
              "      <td>GeoData Consultants Ltd</td>\n",
              "      <td>VWC</td>\n",
              "      <td>Nyumba ya mungu pipe scheme</td>\n",
              "      <td>True</td>\n",
              "      <td>2009</td>\n",
              "      <td>gravity</td>\n",
              "      <td>gravity</td>\n",
              "      <td>gravity</td>\n",
              "      <td>vwc</td>\n",
              "      <td>user-group</td>\n",
              "      <td>pay per bucket</td>\n",
              "      <td>per bucket</td>\n",
              "      <td>soft</td>\n",
              "      <td>good</td>\n",
              "      <td>enough</td>\n",
              "      <td>enough</td>\n",
              "      <td>dam</td>\n",
              "      <td>dam</td>\n",
              "      <td>surface</td>\n",
              "      <td>communal standpipe multiple</td>\n",
              "      <td>communal standpipe</td>\n",
              "      <td>functional</td>\n",
              "    </tr>\n",
              "    <tr>\n",
              "      <th>3</th>\n",
              "      <td>67743</td>\n",
              "      <td>0.0</td>\n",
              "      <td>2013-01-28</td>\n",
              "      <td>Unicef</td>\n",
              "      <td>263</td>\n",
              "      <td>UNICEF</td>\n",
              "      <td>38.486161</td>\n",
              "      <td>-11.155298</td>\n",
              "      <td>Zahanati Ya Nanyumbu</td>\n",
              "      <td>0</td>\n",
              "      <td>Ruvuma / Southern Coast</td>\n",
              "      <td>Mahakamani</td>\n",
              "      <td>Mtwara</td>\n",
              "      <td>90</td>\n",
              "      <td>63</td>\n",
              "      <td>Nanyumbu</td>\n",
              "      <td>Nanyumbu</td>\n",
              "      <td>58</td>\n",
              "      <td>True</td>\n",
              "      <td>GeoData Consultants Ltd</td>\n",
              "      <td>VWC</td>\n",
              "      <td>NaN</td>\n",
              "      <td>True</td>\n",
              "      <td>1986</td>\n",
              "      <td>submersible</td>\n",
              "      <td>submersible</td>\n",
              "      <td>submersible</td>\n",
              "      <td>vwc</td>\n",
              "      <td>user-group</td>\n",
              "      <td>never pay</td>\n",
              "      <td>never pay</td>\n",
              "      <td>soft</td>\n",
              "      <td>good</td>\n",
              "      <td>dry</td>\n",
              "      <td>dry</td>\n",
              "      <td>machine dbh</td>\n",
              "      <td>borehole</td>\n",
              "      <td>groundwater</td>\n",
              "      <td>communal standpipe multiple</td>\n",
              "      <td>communal standpipe</td>\n",
              "      <td>non functional</td>\n",
              "    </tr>\n",
              "    <tr>\n",
              "      <th>4</th>\n",
              "      <td>19728</td>\n",
              "      <td>0.0</td>\n",
              "      <td>2011-07-13</td>\n",
              "      <td>Action In A</td>\n",
              "      <td>0</td>\n",
              "      <td>Artisan</td>\n",
              "      <td>31.130847</td>\n",
              "      <td>-1.825359</td>\n",
              "      <td>Shuleni</td>\n",
              "      <td>0</td>\n",
              "      <td>Lake Victoria</td>\n",
              "      <td>Kyanyamisa</td>\n",
              "      <td>Kagera</td>\n",
              "      <td>18</td>\n",
              "      <td>1</td>\n",
              "      <td>Karagwe</td>\n",
              "      <td>Nyakasimbi</td>\n",
              "      <td>0</td>\n",
              "      <td>True</td>\n",
              "      <td>GeoData Consultants Ltd</td>\n",
              "      <td>NaN</td>\n",
              "      <td>NaN</td>\n",
              "      <td>True</td>\n",
              "      <td>0</td>\n",
              "      <td>gravity</td>\n",
              "      <td>gravity</td>\n",
              "      <td>gravity</td>\n",
              "      <td>other</td>\n",
              "      <td>other</td>\n",
              "      <td>never pay</td>\n",
              "      <td>never pay</td>\n",
              "      <td>soft</td>\n",
              "      <td>good</td>\n",
              "      <td>seasonal</td>\n",
              "      <td>seasonal</td>\n",
              "      <td>rainwater harvesting</td>\n",
              "      <td>rainwater harvesting</td>\n",
              "      <td>surface</td>\n",
              "      <td>communal standpipe</td>\n",
              "      <td>communal standpipe</td>\n",
              "      <td>functional</td>\n",
              "    </tr>\n",
              "  </tbody>\n",
              "</table>\n",
              "</div>"
            ],
            "text/plain": [
              "      id  amount_tsh  ... waterpoint_type_group    status_group\n",
              "0  69572      6000.0  ...    communal standpipe      functional\n",
              "1   8776         0.0  ...    communal standpipe      functional\n",
              "2  34310        25.0  ...    communal standpipe      functional\n",
              "3  67743         0.0  ...    communal standpipe  non functional\n",
              "4  19728         0.0  ...    communal standpipe      functional\n",
              "\n",
              "[5 rows x 41 columns]"
            ]
          },
          "metadata": {},
          "execution_count": 264
        }
      ]
    },
    {
      "cell_type": "code",
      "metadata": {
        "id": "tqGreoxWvXJl",
        "colab": {
          "base_uri": "https://localhost:8080/"
        },
        "outputId": "4d119341-c50b-461f-a35a-22b0fe613f35"
      },
      "source": [
        "data.info()"
      ],
      "execution_count": 265,
      "outputs": [
        {
          "output_type": "stream",
          "name": "stdout",
          "text": [
            "<class 'pandas.core.frame.DataFrame'>\n",
            "Int64Index: 59400 entries, 0 to 59399\n",
            "Data columns (total 41 columns):\n",
            " #   Column                 Non-Null Count  Dtype  \n",
            "---  ------                 --------------  -----  \n",
            " 0   id                     59400 non-null  int64  \n",
            " 1   amount_tsh             59400 non-null  float64\n",
            " 2   date_recorded          59400 non-null  object \n",
            " 3   funder                 55765 non-null  object \n",
            " 4   gps_height             59400 non-null  int64  \n",
            " 5   installer              55745 non-null  object \n",
            " 6   longitude              59400 non-null  float64\n",
            " 7   latitude               59400 non-null  float64\n",
            " 8   wpt_name               59400 non-null  object \n",
            " 9   num_private            59400 non-null  int64  \n",
            " 10  basin                  59400 non-null  object \n",
            " 11  subvillage             59029 non-null  object \n",
            " 12  region                 59400 non-null  object \n",
            " 13  region_code            59400 non-null  int64  \n",
            " 14  district_code          59400 non-null  int64  \n",
            " 15  lga                    59400 non-null  object \n",
            " 16  ward                   59400 non-null  object \n",
            " 17  population             59400 non-null  int64  \n",
            " 18  public_meeting         56066 non-null  object \n",
            " 19  recorded_by            59400 non-null  object \n",
            " 20  scheme_management      55523 non-null  object \n",
            " 21  scheme_name            31234 non-null  object \n",
            " 22  permit                 56344 non-null  object \n",
            " 23  construction_year      59400 non-null  int64  \n",
            " 24  extraction_type        59400 non-null  object \n",
            " 25  extraction_type_group  59400 non-null  object \n",
            " 26  extraction_type_class  59400 non-null  object \n",
            " 27  management             59400 non-null  object \n",
            " 28  management_group       59400 non-null  object \n",
            " 29  payment                59400 non-null  object \n",
            " 30  payment_type           59400 non-null  object \n",
            " 31  water_quality          59400 non-null  object \n",
            " 32  quality_group          59400 non-null  object \n",
            " 33  quantity               59400 non-null  object \n",
            " 34  quantity_group         59400 non-null  object \n",
            " 35  source                 59400 non-null  object \n",
            " 36  source_type            59400 non-null  object \n",
            " 37  source_class           59400 non-null  object \n",
            " 38  waterpoint_type        59400 non-null  object \n",
            " 39  waterpoint_type_group  59400 non-null  object \n",
            " 40  status_group           59400 non-null  object \n",
            "dtypes: float64(3), int64(7), object(31)\n",
            "memory usage: 19.0+ MB\n"
          ]
        }
      ]
    },
    {
      "cell_type": "code",
      "metadata": {
        "colab": {
          "base_uri": "https://localhost:8080/",
          "height": 265
        },
        "id": "e-wnTxjKtKOo",
        "outputId": "de4c3829-6a0a-4e7c-8cef-7957676b031f"
      },
      "source": [
        "data.isnull().sum().to_frame(name='counts').query('counts > 0')"
      ],
      "execution_count": 266,
      "outputs": [
        {
          "output_type": "execute_result",
          "data": {
            "text/html": [
              "<div>\n",
              "<style scoped>\n",
              "    .dataframe tbody tr th:only-of-type {\n",
              "        vertical-align: middle;\n",
              "    }\n",
              "\n",
              "    .dataframe tbody tr th {\n",
              "        vertical-align: top;\n",
              "    }\n",
              "\n",
              "    .dataframe thead th {\n",
              "        text-align: right;\n",
              "    }\n",
              "</style>\n",
              "<table border=\"1\" class=\"dataframe\">\n",
              "  <thead>\n",
              "    <tr style=\"text-align: right;\">\n",
              "      <th></th>\n",
              "      <th>counts</th>\n",
              "    </tr>\n",
              "  </thead>\n",
              "  <tbody>\n",
              "    <tr>\n",
              "      <th>funder</th>\n",
              "      <td>3635</td>\n",
              "    </tr>\n",
              "    <tr>\n",
              "      <th>installer</th>\n",
              "      <td>3655</td>\n",
              "    </tr>\n",
              "    <tr>\n",
              "      <th>subvillage</th>\n",
              "      <td>371</td>\n",
              "    </tr>\n",
              "    <tr>\n",
              "      <th>public_meeting</th>\n",
              "      <td>3334</td>\n",
              "    </tr>\n",
              "    <tr>\n",
              "      <th>scheme_management</th>\n",
              "      <td>3877</td>\n",
              "    </tr>\n",
              "    <tr>\n",
              "      <th>scheme_name</th>\n",
              "      <td>28166</td>\n",
              "    </tr>\n",
              "    <tr>\n",
              "      <th>permit</th>\n",
              "      <td>3056</td>\n",
              "    </tr>\n",
              "  </tbody>\n",
              "</table>\n",
              "</div>"
            ],
            "text/plain": [
              "                   counts\n",
              "funder               3635\n",
              "installer            3655\n",
              "subvillage            371\n",
              "public_meeting       3334\n",
              "scheme_management    3877\n",
              "scheme_name         28166\n",
              "permit               3056"
            ]
          },
          "metadata": {},
          "execution_count": 266
        }
      ]
    },
    {
      "cell_type": "code",
      "metadata": {
        "colab": {
          "base_uri": "https://localhost:8080/",
          "height": 265
        },
        "id": "8YqC7mg0-Iqi",
        "outputId": "f6d32a75-eeee-43e5-dbb7-535b69f1f2ca"
      },
      "source": [
        "test_.isnull().sum().to_frame(name='counts').query('counts > 0')"
      ],
      "execution_count": 267,
      "outputs": [
        {
          "output_type": "execute_result",
          "data": {
            "text/html": [
              "<div>\n",
              "<style scoped>\n",
              "    .dataframe tbody tr th:only-of-type {\n",
              "        vertical-align: middle;\n",
              "    }\n",
              "\n",
              "    .dataframe tbody tr th {\n",
              "        vertical-align: top;\n",
              "    }\n",
              "\n",
              "    .dataframe thead th {\n",
              "        text-align: right;\n",
              "    }\n",
              "</style>\n",
              "<table border=\"1\" class=\"dataframe\">\n",
              "  <thead>\n",
              "    <tr style=\"text-align: right;\">\n",
              "      <th></th>\n",
              "      <th>counts</th>\n",
              "    </tr>\n",
              "  </thead>\n",
              "  <tbody>\n",
              "    <tr>\n",
              "      <th>funder</th>\n",
              "      <td>869</td>\n",
              "    </tr>\n",
              "    <tr>\n",
              "      <th>installer</th>\n",
              "      <td>877</td>\n",
              "    </tr>\n",
              "    <tr>\n",
              "      <th>subvillage</th>\n",
              "      <td>99</td>\n",
              "    </tr>\n",
              "    <tr>\n",
              "      <th>public_meeting</th>\n",
              "      <td>821</td>\n",
              "    </tr>\n",
              "    <tr>\n",
              "      <th>scheme_management</th>\n",
              "      <td>969</td>\n",
              "    </tr>\n",
              "    <tr>\n",
              "      <th>scheme_name</th>\n",
              "      <td>7092</td>\n",
              "    </tr>\n",
              "    <tr>\n",
              "      <th>permit</th>\n",
              "      <td>737</td>\n",
              "    </tr>\n",
              "  </tbody>\n",
              "</table>\n",
              "</div>"
            ],
            "text/plain": [
              "                   counts\n",
              "funder                869\n",
              "installer             877\n",
              "subvillage             99\n",
              "public_meeting        821\n",
              "scheme_management     969\n",
              "scheme_name          7092\n",
              "permit                737"
            ]
          },
          "metadata": {},
          "execution_count": 267
        }
      ]
    },
    {
      "cell_type": "code",
      "metadata": {
        "id": "bIoPevBc-L74"
      },
      "source": [
        "col_null=[\"funder\",\"installer\",\"subvillage\",\"public_meeting\",\"scheme_management\",\"scheme_name\",\"permit\"]\n",
        "col_drop=[]"
      ],
      "execution_count": 268,
      "outputs": []
    },
    {
      "cell_type": "code",
      "metadata": {
        "id": "-0A5KsY-vU0u",
        "colab": {
          "base_uri": "https://localhost:8080/",
          "height": 315
        },
        "outputId": "b6f540e0-c968-4bb3-9c53-de367b51e6ee"
      },
      "source": [
        "data.describe()"
      ],
      "execution_count": 269,
      "outputs": [
        {
          "output_type": "execute_result",
          "data": {
            "text/html": [
              "<div>\n",
              "<style scoped>\n",
              "    .dataframe tbody tr th:only-of-type {\n",
              "        vertical-align: middle;\n",
              "    }\n",
              "\n",
              "    .dataframe tbody tr th {\n",
              "        vertical-align: top;\n",
              "    }\n",
              "\n",
              "    .dataframe thead th {\n",
              "        text-align: right;\n",
              "    }\n",
              "</style>\n",
              "<table border=\"1\" class=\"dataframe\">\n",
              "  <thead>\n",
              "    <tr style=\"text-align: right;\">\n",
              "      <th></th>\n",
              "      <th>id</th>\n",
              "      <th>amount_tsh</th>\n",
              "      <th>gps_height</th>\n",
              "      <th>longitude</th>\n",
              "      <th>latitude</th>\n",
              "      <th>num_private</th>\n",
              "      <th>region_code</th>\n",
              "      <th>district_code</th>\n",
              "      <th>population</th>\n",
              "      <th>construction_year</th>\n",
              "    </tr>\n",
              "  </thead>\n",
              "  <tbody>\n",
              "    <tr>\n",
              "      <th>count</th>\n",
              "      <td>59400.000000</td>\n",
              "      <td>59400.000000</td>\n",
              "      <td>59400.000000</td>\n",
              "      <td>59400.000000</td>\n",
              "      <td>5.940000e+04</td>\n",
              "      <td>59400.000000</td>\n",
              "      <td>59400.000000</td>\n",
              "      <td>59400.000000</td>\n",
              "      <td>59400.000000</td>\n",
              "      <td>59400.000000</td>\n",
              "    </tr>\n",
              "    <tr>\n",
              "      <th>mean</th>\n",
              "      <td>37115.131768</td>\n",
              "      <td>317.650385</td>\n",
              "      <td>668.297239</td>\n",
              "      <td>34.077427</td>\n",
              "      <td>-5.706033e+00</td>\n",
              "      <td>0.474141</td>\n",
              "      <td>15.297003</td>\n",
              "      <td>5.629747</td>\n",
              "      <td>179.909983</td>\n",
              "      <td>1300.652475</td>\n",
              "    </tr>\n",
              "    <tr>\n",
              "      <th>std</th>\n",
              "      <td>21453.128371</td>\n",
              "      <td>2997.574558</td>\n",
              "      <td>693.116350</td>\n",
              "      <td>6.567432</td>\n",
              "      <td>2.946019e+00</td>\n",
              "      <td>12.236230</td>\n",
              "      <td>17.587406</td>\n",
              "      <td>9.633649</td>\n",
              "      <td>471.482176</td>\n",
              "      <td>951.620547</td>\n",
              "    </tr>\n",
              "    <tr>\n",
              "      <th>min</th>\n",
              "      <td>0.000000</td>\n",
              "      <td>0.000000</td>\n",
              "      <td>-90.000000</td>\n",
              "      <td>0.000000</td>\n",
              "      <td>-1.164944e+01</td>\n",
              "      <td>0.000000</td>\n",
              "      <td>1.000000</td>\n",
              "      <td>0.000000</td>\n",
              "      <td>0.000000</td>\n",
              "      <td>0.000000</td>\n",
              "    </tr>\n",
              "    <tr>\n",
              "      <th>25%</th>\n",
              "      <td>18519.750000</td>\n",
              "      <td>0.000000</td>\n",
              "      <td>0.000000</td>\n",
              "      <td>33.090347</td>\n",
              "      <td>-8.540621e+00</td>\n",
              "      <td>0.000000</td>\n",
              "      <td>5.000000</td>\n",
              "      <td>2.000000</td>\n",
              "      <td>0.000000</td>\n",
              "      <td>0.000000</td>\n",
              "    </tr>\n",
              "    <tr>\n",
              "      <th>50%</th>\n",
              "      <td>37061.500000</td>\n",
              "      <td>0.000000</td>\n",
              "      <td>369.000000</td>\n",
              "      <td>34.908743</td>\n",
              "      <td>-5.021597e+00</td>\n",
              "      <td>0.000000</td>\n",
              "      <td>12.000000</td>\n",
              "      <td>3.000000</td>\n",
              "      <td>25.000000</td>\n",
              "      <td>1986.000000</td>\n",
              "    </tr>\n",
              "    <tr>\n",
              "      <th>75%</th>\n",
              "      <td>55656.500000</td>\n",
              "      <td>20.000000</td>\n",
              "      <td>1319.250000</td>\n",
              "      <td>37.178387</td>\n",
              "      <td>-3.326156e+00</td>\n",
              "      <td>0.000000</td>\n",
              "      <td>17.000000</td>\n",
              "      <td>5.000000</td>\n",
              "      <td>215.000000</td>\n",
              "      <td>2004.000000</td>\n",
              "    </tr>\n",
              "    <tr>\n",
              "      <th>max</th>\n",
              "      <td>74247.000000</td>\n",
              "      <td>350000.000000</td>\n",
              "      <td>2770.000000</td>\n",
              "      <td>40.345193</td>\n",
              "      <td>-2.000000e-08</td>\n",
              "      <td>1776.000000</td>\n",
              "      <td>99.000000</td>\n",
              "      <td>80.000000</td>\n",
              "      <td>30500.000000</td>\n",
              "      <td>2013.000000</td>\n",
              "    </tr>\n",
              "  </tbody>\n",
              "</table>\n",
              "</div>"
            ],
            "text/plain": [
              "                 id     amount_tsh  ...    population  construction_year\n",
              "count  59400.000000   59400.000000  ...  59400.000000       59400.000000\n",
              "mean   37115.131768     317.650385  ...    179.909983        1300.652475\n",
              "std    21453.128371    2997.574558  ...    471.482176         951.620547\n",
              "min        0.000000       0.000000  ...      0.000000           0.000000\n",
              "25%    18519.750000       0.000000  ...      0.000000           0.000000\n",
              "50%    37061.500000       0.000000  ...     25.000000        1986.000000\n",
              "75%    55656.500000      20.000000  ...    215.000000        2004.000000\n",
              "max    74247.000000  350000.000000  ...  30500.000000        2013.000000\n",
              "\n",
              "[8 rows x 10 columns]"
            ]
          },
          "metadata": {},
          "execution_count": 269
        }
      ]
    },
    {
      "cell_type": "code",
      "metadata": {
        "id": "aORdNdPwzqbV"
      },
      "source": [
        ""
      ],
      "execution_count": 269,
      "outputs": []
    },
    {
      "cell_type": "markdown",
      "metadata": {
        "id": "WVUn9mDfSBQh"
      },
      "source": [
        "## Final pipeline "
      ]
    },
    {
      "cell_type": "code",
      "metadata": {
        "colab": {
          "base_uri": "https://localhost:8080/"
        },
        "id": "46vlthwhz-wH",
        "outputId": "645d4e4c-426c-4dd4-8aac-e427ee96ce2f"
      },
      "source": [
        "col_drop"
      ],
      "execution_count": 209,
      "outputs": [
        {
          "output_type": "execute_result",
          "data": {
            "text/plain": [
              "['waterpoint_type_group',\n",
              " 'installer',\n",
              " 'scheme_name',\n",
              " 'date_recorded',\n",
              " 'payment',\n",
              " 'extraction_type_group',\n",
              " 'extraction_type_class',\n",
              " 'management_group',\n",
              " 'quality_group',\n",
              " 'quantity_group',\n",
              " 'source_type',\n",
              " 'source_class']"
            ]
          },
          "metadata": {},
          "execution_count": 209
        }
      ]
    },
    {
      "cell_type": "code",
      "metadata": {
        "colab": {
          "base_uri": "https://localhost:8080/"
        },
        "id": "18hiHIUj0igX",
        "outputId": "a01f26c3-e507-4bd8-b63c-9128109a3298"
      },
      "source": [
        "col_null"
      ],
      "execution_count": 210,
      "outputs": [
        {
          "output_type": "execute_result",
          "data": {
            "text/plain": [
              "['funder',\n",
              " 'installer',\n",
              " 'subvillage',\n",
              " 'public_meeting',\n",
              " 'scheme_management',\n",
              " 'scheme_name',\n",
              " 'permit']"
            ]
          },
          "metadata": {},
          "execution_count": 210
        }
      ]
    },
    {
      "cell_type": "code",
      "metadata": {
        "id": "cRFptGPashD-"
      },
      "source": [
        "def preprocess(data1,type=\"train\"):\n",
        "  data=data1.copy(deep=False)\n",
        "  data['gps_height'].replace(0.0, np.nan, inplace=True)\n",
        "  data['population'].replace(0.0, np.nan, inplace=True)\n",
        "  data['amount_tsh'].replace(0.0, np.nan, inplace=True)\n",
        "\n",
        "  data[\"gps_height\"].fillna(data.groupby(['region', 'district_code'])[\"gps_height\"].transform(\"mean\"), inplace=True)\n",
        "  data[\"gps_height\"].fillna(data.groupby(['region'])[\"gps_height\"].transform(\"mean\"), inplace=True)\n",
        "  data[\"gps_height\"].fillna(data[\"gps_height\"].mean(), inplace=True)\n",
        "\n",
        "  data[\"population\"].fillna(data.groupby(['region', 'district_code'])[\"population\"].transform(\"median\"), inplace=True)\n",
        "  data[\"population\"].fillna(data.groupby(['region'])[\"population\"].transform(\"median\"), inplace=True)\n",
        "  data[\"population\"].fillna(data[\"population\"].median(), inplace=True)\n",
        "\n",
        "  data[\"amount_tsh\"].fillna(data.groupby(['region', 'district_code'])[\"amount_tsh\"].transform(\"median\"), inplace=True)\n",
        "  data[\"amount_tsh\"].fillna(data.groupby(['region'])[\"amount_tsh\"].transform(\"median\"), inplace=True)\n",
        "  data[\"amount_tsh\"].fillna(data[\"amount_tsh\"].median(), inplace=True)\n",
        "\n",
        "  data['longitude'].replace(0.0, np.nan, inplace=True)\n",
        "\n",
        "  data[\"latitude\"].fillna(data.groupby(['region', 'district_code'])[\"latitude\"].transform(\"mean\"), inplace=True)\n",
        "  data[\"latitude\"].fillna(data.groupby(['region'])[\"latitude\"].transform(\"mean\"), inplace=True)\n",
        "\n",
        "  data[\"longitude\"].fillna(data.groupby(['region', 'district_code'])[\"longitude\"].transform(\"mean\"), inplace=True)\n",
        "  data[\"longitude\"].fillna(data.groupby(['region'])[\"longitude\"].transform(\"mean\"), inplace=True)\n",
        "\n",
        "  data['construction_year'].replace(0.0, np.nan, inplace=True)\n",
        "\n",
        "  data[\"construction_year\"].fillna(data.groupby(['region', 'district_code'])[\"construction_year\"].transform(\"median\"), inplace=True)\n",
        "  data[\"construction_year\"].fillna(data.groupby(['region'])[\"construction_year\"].transform(\"median\"), inplace=True)\n",
        "  data[\"construction_year\"].fillna(data.groupby(['district_code'])[\"construction_year\"].transform(\"median\"), inplace=True)\n",
        "  data[\"construction_year\"].fillna(data[\"construction_year\"].median(), inplace=True)\n",
        "\n",
        "  data['date_recorded'] = pd.to_datetime(data['date_recorded'])\n",
        "  data['operational_year'] = data.date_recorded.dt.year - data.construction_year\n",
        "  data['operational_month'] = data.operational_year*12\n",
        "\n",
        "\n",
        "  # data[\"recorded_year\"] =data.date_recorded.dt.year\n",
        "\n",
        "  data[\"funder\"].fillna(\"other\", inplace=True)\n",
        "  data[\"scheme_management\"].fillna(\"other\", inplace=True)\n",
        "  data[\"installer\"].fillna(\"other\", inplace=True)\n",
        "\n",
        "  data[\"subvillage\"].fillna(\"other\", inplace=True)\n",
        "  data[\"public_meeting\"].fillna(data[\"public_meeting\"].mode()[0], inplace=True)\n",
        "  data[\"permit\"].fillna(data[\"permit\"].mode()[0], inplace=True)\n",
        "\n",
        "  drop_col=['waterpoint_type_group',\n",
        "            'installer',\n",
        "            # 'ward',\n",
        "            # 'lga',\n",
        "            'scheme_name',\n",
        "            'date_recorded',\n",
        "            'payment',\n",
        "            'extraction_type_group',\n",
        "            'extraction_type_class',\n",
        "            'management_group',\n",
        "            'quality_group',\n",
        "            'quantity_group',\n",
        "            # 'wpt_name',\n",
        "            # 'num_private',\n",
        "            # 'subvillage',\n",
        "            # 'region_code',\n",
        "            'recorded_by',\n",
        "            'source_type',\n",
        "            'source_class',\n",
        "            # \"recorded_year\"      \n",
        "            # 'public_meeting',\n",
        "            # 'permit',\n",
        "            #   \"funder\"\n",
        "            ]\n",
        "\n",
        "  data.drop(columns=drop_col,inplace=True)\n",
        "\n",
        "  return data"
      ],
      "execution_count": 270,
      "outputs": []
    },
    {
      "cell_type": "code",
      "metadata": {
        "id": "LeZDR1JB3cdZ"
      },
      "source": [
        "def encode(data1,type=\"train\"):\n",
        "  data=data1.copy(deep=False)\n",
        "\n",
        "  # obj_column=['basin', 'region', 'scheme_management', 'extraction_type',\n",
        "  #      'management', 'payment_type', 'water_quality', 'quantity',\n",
        "  #      'source', 'waterpoint_type']\n",
        "\n",
        "  obj_column = data.columns[data.dtypes == \"object\"].values\n",
        "  # if type == \"train\":\n",
        "  #   print(\"train\")\n",
        "  #   categorical_encoding={ \n",
        "  #     \"basin\" : ['Lake Nyasa' ,'Lake Victoria' ,'Pangani', 'Ruvuma / Southern Coast','Internal' ,'Lake Tanganyika' ,'Wami / Ruvu' ,'Rufiji' ,'Lake Rukwa']\n",
        "  #     ,\"region\" : ['Iringa', 'Mara', 'Manyara', 'Mtwara' ,'Kagera', 'Tanga' ,'Shinyanga' ,'Tabora','Pwani', 'Ruvuma' ,'Kilimanjaro', 'Rukwa' ,'Mwanza' ,'Kigoma', 'Lindi' ,'Dodoma','Arusha', 'Mbeya' ,'Singida' ,'Morogoro', 'Dar es Salaam']\n",
        "  #     ,\"scheme_management\" : ['VWC', 'Other', 'other' ,'Private operator', 'WUG', 'Water Board', 'WUA','Water authority', 'Company' ,'Parastatal', 'Trust', 'SWC' ,'None']\n",
        "  #     ,\"extraction_type\" : ['gravity' ,'submersible', 'swn 80', 'nira/tanira' ,'india mark ii', 'other','ksb' ,'mono' ,'windmill' ,'afridev' ,'other - rope pump', 'india mark iii', 'other - swn 81' ,'other - play pump' ,'cemo', 'climax' ,'walimi','other - mkulima/shinyanga']\n",
        "  #     ,\"management\" : ['vwc' ,'wug' ,'other' ,'private operator' ,'water board' ,'wua', 'company','water authority', 'parastatal' ,'unknown' ,'other - school', 'trust']\n",
        "  #     ,\"payment_type\" : ['annually' ,'never pay', 'per bucket', 'unknown' ,'on failure', 'other','monthly']\n",
        "  #     ,\"water_quality\" : ['soft', 'salty', 'milky' ,'unknown', 'fluoride', 'coloured' ,'salty abandoned','fluoride abandoned']\n",
        "  #     ,\"quantity\" : ['enough', 'insufficient', 'dry' ,'seasonal' ,'unknown']\n",
        "  #     ,\"source\" : ['spring' ,'rainwater harvesting' ,'dam' ,'machine dbh', 'other','shallow well', 'river' ,'hand dtw' ,'lake' ,'unknown']\n",
        "  #     ,\"waterpoint_type\" : ['communal standpipe' ,'communal standpipe multiple', 'hand pump', 'other','improved spring', 'cattle trough' ,'dam']\n",
        "  #     ,\"status_group\" : ['functional' ,'non functional' ,'functional needs repair']\n",
        "  #   } \n",
        "  #   obj_column.append(\"status_group\")\n",
        "  # else:\n",
        "  #   print(\"test\")\n",
        "  #   categorical_encoding={ \n",
        "  #   \"basin\" : ['Lake Nyasa' ,'Lake Victoria' ,'Pangani', 'Ruvuma / Southern Coast','Internal' ,'Lake Tanganyika' ,'Wami / Ruvu' ,'Rufiji' ,'Lake Rukwa']\n",
        "  #   ,\"region\" : ['Iringa', 'Mara', 'Manyara', 'Mtwara' ,'Kagera', 'Tanga' ,'Shinyanga' ,'Tabora','Pwani', 'Ruvuma' ,'Kilimanjaro', 'Rukwa' ,'Mwanza' ,'Kigoma', 'Lindi' ,'Dodoma','Arusha', 'Mbeya' ,'Singida' ,'Morogoro', 'Dar es Salaam']\n",
        "  #   ,\"scheme_management\" : ['VWC', 'Other', 'other' ,'Private operator', 'WUG', 'Water Board', 'WUA','Water authority', 'Company' ,'Parastatal', 'Trust', 'SWC' ,'None']\n",
        "  #   ,\"extraction_type\" : ['gravity' ,'submersible', 'swn 80', 'nira/tanira' ,'india mark ii', 'other','ksb' ,'mono' ,'windmill' ,'afridev' ,'other - rope pump', 'india mark iii', 'other - swn 81' ,'other - play pump' ,'cemo', 'climax' ,'walimi','other - mkulima/shinyanga']\n",
        "  #   ,\"management\" : ['vwc' ,'wug' ,'other' ,'private operator' ,'water board' ,'wua', 'company','water authority', 'parastatal' ,'unknown' ,'other - school', 'trust']\n",
        "  #   ,\"payment_type\" : ['annually' ,'never pay', 'per bucket', 'unknown' ,'on failure', 'other','monthly']\n",
        "  #   ,\"water_quality\" : ['soft', 'salty', 'milky' ,'unknown', 'fluoride', 'coloured' ,'salty abandoned','fluoride abandoned']\n",
        "  #   ,\"quantity\" : ['enough', 'insufficient', 'dry' ,'seasonal' ,'unknown']\n",
        "  #   ,\"source\" : ['spring' ,'rainwater harvesting' ,'dam' ,'machine dbh', 'other','shallow well', 'river' ,'hand dtw' ,'lake' ,'unknown']\n",
        "  #   ,\"waterpoint_type\" : ['communal standpipe' ,'communal standpipe multiple', 'hand pump', 'other','improved spring', 'cattle trough' ,'dam']\n",
        "  #   # ,\"status_group\" : ['functional' ,'non functional' ,'functional needs repair']\n",
        "  # } \n",
        "    \n",
        "  \n",
        "  for i in obj_column:\n",
        "    if i!=\"split\":\n",
        "      print(i,)\n",
        "      le = preprocessing.LabelEncoder()\n",
        "      # le.fit(categorical_encoding[i])\n",
        "      data[i]=le.fit_transform(data[i])\n",
        "\n",
        "  # for i in obj_column:\n",
        "  #   data[i]=data[i].apply(str.lower)\n",
        "\n",
        "  # data=pd.get_dummies(data , columns=obj_column, prefix=obj_column)\n",
        "\n",
        "  return data"
      ],
      "execution_count": 298,
      "outputs": []
    },
    {
      "cell_type": "code",
      "metadata": {
        "id": "J85VvQo1UiPI"
      },
      "source": [
        "data_df=preprocess(data,type=\"train\")\n",
        "# data_df=data"
      ],
      "execution_count": 271,
      "outputs": []
    },
    {
      "cell_type": "code",
      "metadata": {
        "colab": {
          "base_uri": "https://localhost:8080/"
        },
        "id": "I9hsEOV9-VYi",
        "outputId": "57c550bb-5c52-45fa-ffe1-9aaa83852477"
      },
      "source": [
        "data_df.columns"
      ],
      "execution_count": 290,
      "outputs": [
        {
          "output_type": "execute_result",
          "data": {
            "text/plain": [
              "Index(['id', 'amount_tsh', 'funder', 'gps_height', 'longitude', 'latitude',\n",
              "       'wpt_name', 'num_private', 'basin', 'subvillage', 'region',\n",
              "       'region_code', 'district_code', 'lga', 'ward', 'population',\n",
              "       'public_meeting', 'scheme_management', 'permit', 'construction_year',\n",
              "       'extraction_type', 'management', 'payment_type', 'water_quality',\n",
              "       'quantity', 'source', 'waterpoint_type', 'status_group',\n",
              "       'operational_year', 'operational_month'],\n",
              "      dtype='object')"
            ]
          },
          "metadata": {},
          "execution_count": 290
        }
      ]
    },
    {
      "cell_type": "code",
      "metadata": {
        "id": "jeytNDInY4JY",
        "colab": {
          "base_uri": "https://localhost:8080/"
        },
        "outputId": "7f1a0b26-0d33-4a8a-e92c-ae87d823f1a6"
      },
      "source": [
        "cat_features=data_df.columns[data_df.dtypes == \"object\"].values\n",
        "cat_features"
      ],
      "execution_count": 273,
      "outputs": [
        {
          "output_type": "execute_result",
          "data": {
            "text/plain": [
              "array(['funder', 'wpt_name', 'basin', 'subvillage', 'region', 'lga',\n",
              "       'ward', 'scheme_management', 'extraction_type', 'management',\n",
              "       'payment_type', 'water_quality', 'quantity', 'source',\n",
              "       'waterpoint_type', 'status_group'], dtype=object)"
            ]
          },
          "metadata": {},
          "execution_count": 273
        }
      ]
    },
    {
      "cell_type": "code",
      "metadata": {
        "colab": {
          "base_uri": "https://localhost:8080/",
          "height": 49
        },
        "id": "TfZ--LjEjt6O",
        "outputId": "51df414c-033d-49eb-adf9-4eb9e81a9536"
      },
      "source": [
        "data_df.isnull().sum().to_frame(name='counts').query('counts > 0')"
      ],
      "execution_count": 274,
      "outputs": [
        {
          "output_type": "execute_result",
          "data": {
            "text/html": [
              "<div>\n",
              "<style scoped>\n",
              "    .dataframe tbody tr th:only-of-type {\n",
              "        vertical-align: middle;\n",
              "    }\n",
              "\n",
              "    .dataframe tbody tr th {\n",
              "        vertical-align: top;\n",
              "    }\n",
              "\n",
              "    .dataframe thead th {\n",
              "        text-align: right;\n",
              "    }\n",
              "</style>\n",
              "<table border=\"1\" class=\"dataframe\">\n",
              "  <thead>\n",
              "    <tr style=\"text-align: right;\">\n",
              "      <th></th>\n",
              "      <th>counts</th>\n",
              "    </tr>\n",
              "  </thead>\n",
              "  <tbody>\n",
              "  </tbody>\n",
              "</table>\n",
              "</div>"
            ],
            "text/plain": [
              "Empty DataFrame\n",
              "Columns: [counts]\n",
              "Index: []"
            ]
          },
          "metadata": {},
          "execution_count": 274
        }
      ]
    },
    {
      "cell_type": "code",
      "metadata": {
        "id": "bgHK8rUA-a5v"
      },
      "source": [
        "test_df=preprocess(test_,type=\"test\")\n",
        "# test_df=test_"
      ],
      "execution_count": 275,
      "outputs": []
    },
    {
      "cell_type": "code",
      "metadata": {
        "id": "cBme4AUwckUM",
        "colab": {
          "base_uri": "https://localhost:8080/",
          "height": 49
        },
        "outputId": "e12339f4-4796-4d16-a40f-fc946b4ad2f0"
      },
      "source": [
        "test_df.isnull().sum().to_frame(name='counts').query('counts > 0')"
      ],
      "execution_count": 276,
      "outputs": [
        {
          "output_type": "execute_result",
          "data": {
            "text/html": [
              "<div>\n",
              "<style scoped>\n",
              "    .dataframe tbody tr th:only-of-type {\n",
              "        vertical-align: middle;\n",
              "    }\n",
              "\n",
              "    .dataframe tbody tr th {\n",
              "        vertical-align: top;\n",
              "    }\n",
              "\n",
              "    .dataframe thead th {\n",
              "        text-align: right;\n",
              "    }\n",
              "</style>\n",
              "<table border=\"1\" class=\"dataframe\">\n",
              "  <thead>\n",
              "    <tr style=\"text-align: right;\">\n",
              "      <th></th>\n",
              "      <th>counts</th>\n",
              "    </tr>\n",
              "  </thead>\n",
              "  <tbody>\n",
              "  </tbody>\n",
              "</table>\n",
              "</div>"
            ],
            "text/plain": [
              "Empty DataFrame\n",
              "Columns: [counts]\n",
              "Index: []"
            ]
          },
          "metadata": {},
          "execution_count": 276
        }
      ]
    },
    {
      "cell_type": "code",
      "metadata": {
        "id": "noQw3xrDclSC",
        "colab": {
          "base_uri": "https://localhost:8080/"
        },
        "outputId": "1cc4243a-e07b-4814-917d-01741c4e7c1c"
      },
      "source": [
        "cat_features=np.setdiff1d(cat_features,np.array([\"id\",\"status_group\"]))\n",
        "cat_features\n",
        "# [\"subvillage\",\"public_meeting\",\"scheme_name\",\"permit\"]"
      ],
      "execution_count": 277,
      "outputs": [
        {
          "output_type": "execute_result",
          "data": {
            "text/plain": [
              "array(['basin', 'extraction_type', 'funder', 'lga', 'management',\n",
              "       'payment_type', 'quantity', 'region', 'scheme_management',\n",
              "       'source', 'subvillage', 'ward', 'water_quality', 'waterpoint_type',\n",
              "       'wpt_name'], dtype=object)"
            ]
          },
          "metadata": {},
          "execution_count": 277
        }
      ]
    },
    {
      "cell_type": "code",
      "metadata": {
        "id": "SP5dW2FLZQo-"
      },
      "source": [
        "from sklearn import preprocessing\n",
        "from sklearn.model_selection import train_test_split\n",
        "X_train, X_val, y_train, y_val = train_test_split(\n",
        "    data_df.drop(columns=[\"status_group\",\"id\"]),\n",
        "    data_df[\"status_group\"],\n",
        "    test_size=0.3,\n",
        "    shuffle=True,\n",
        "    stratify=data[\"status_group\"],\n",
        "    random_state=45)\n",
        "# ,\"date_recorded\",\"subvillage\",\"public_meeting\",\"scheme_name\",\"permit\""
      ],
      "execution_count": 278,
      "outputs": []
    },
    {
      "cell_type": "markdown",
      "metadata": {
        "id": "0c5xVR4l7tI1"
      },
      "source": [
        "#### catboost"
      ]
    },
    {
      "cell_type": "code",
      "metadata": {
        "id": "CBNxiHct7H3B"
      },
      "source": [
        "%%capture\n",
        "!pip3 install catboost"
      ],
      "execution_count": 243,
      "outputs": []
    },
    {
      "cell_type": "code",
      "metadata": {
        "id": "8wD6_Bsa7KpM"
      },
      "source": [
        "from catboost import Pool, CatBoostClassifier\n",
        "\n",
        "train_dataset = Pool(data=X_train,\n",
        "                     label=y_train,\n",
        "                     cat_features=cat_features)\n",
        "\n",
        "eval_dataset = Pool(data=X_val,\n",
        "                    label=y_val,\n",
        "                    cat_features=cat_features)\n",
        "modelCat = CatBoostClassifier(loss_function='MultiClass')"
      ],
      "execution_count": 279,
      "outputs": []
    },
    {
      "cell_type": "code",
      "metadata": {
        "colab": {
          "base_uri": "https://localhost:8080/"
        },
        "id": "VoDSXI3S7g3M",
        "outputId": "c293a4fe-bd13-42b6-e546-d09969ae48ac"
      },
      "source": [
        "modelCat.fit(train_dataset,verbose=False)\n",
        "modelCat.get_best_score()"
      ],
      "execution_count": 280,
      "outputs": [
        {
          "output_type": "execute_result",
          "data": {
            "text/plain": [
              "{'learn': {'MultiClass': 0.43087749388058416}}"
            ]
          },
          "metadata": {},
          "execution_count": 280
        }
      ]
    },
    {
      "cell_type": "code",
      "metadata": {
        "colab": {
          "base_uri": "https://localhost:8080/"
        },
        "id": "ws9UYfMu74xE",
        "outputId": "c9e7c723-2191-4815-aebd-d7959ac8c9a2"
      },
      "source": [
        "y_pred=modelCat.predict(eval_dataset)\n",
        "d=compute_metrics(y_pred,y_val)\n",
        "d"
      ],
      "execution_count": 282,
      "outputs": [
        {
          "output_type": "execute_result",
          "data": {
            "text/plain": [
              "{'accuracy': 0.8071268237934904, 'confusiton_mat': array([[8762,  161,  755],\n",
              "        [ 718,  391,  186],\n",
              "        [1531,   86, 5230]]), 'f1': array([0.84702016, 0.40455251, 0.80350284]), 'precision': array([0.7957497 , 0.61285266, 0.84751256]), 'recall': array([0.90535235, 0.3019305 , 0.76383818])}"
            ]
          },
          "metadata": {},
          "execution_count": 282
        }
      ]
    },
    {
      "cell_type": "code",
      "metadata": {
        "colab": {
          "base_uri": "https://localhost:8080/"
        },
        "id": "q0JQDWhY-CDZ",
        "outputId": "52c35257-3d13-4678-b52f-b0a7eb38b251"
      },
      "source": [
        "featurs = modelCat.feature_names_\n",
        "print(featurs)"
      ],
      "execution_count": 284,
      "outputs": [
        {
          "output_type": "stream",
          "name": "stdout",
          "text": [
            "['amount_tsh', 'funder', 'gps_height', 'longitude', 'latitude', 'wpt_name', 'num_private', 'basin', 'subvillage', 'region', 'region_code', 'district_code', 'lga', 'ward', 'population', 'public_meeting', 'scheme_management', 'permit', 'construction_year', 'extraction_type', 'management', 'payment_type', 'water_quality', 'quantity', 'source', 'waterpoint_type', 'operational_year', 'operational_month']\n"
          ]
        }
      ]
    },
    {
      "cell_type": "code",
      "metadata": {
        "id": "2VblLm9H99xw"
      },
      "source": [
        "test_df[\"status_group\"]=modelCat.predict(test_df[featurs])"
      ],
      "execution_count": 285,
      "outputs": []
    },
    {
      "cell_type": "code",
      "metadata": {
        "id": "5rhYWbJdCrey"
      },
      "source": [
        "test_df[[\"id\",\"status_group\"]].to_csv(\"submission4.csv\",index=False)"
      ],
      "execution_count": 287,
      "outputs": []
    },
    {
      "cell_type": "markdown",
      "metadata": {
        "id": "k5rjBJ3m7v1H"
      },
      "source": [
        "#### adaboost"
      ]
    },
    {
      "cell_type": "code",
      "metadata": {
        "id": "YB7PzZ9iDcCp"
      },
      "source": [
        "# data_df[\"split\"]=\"train\"\n",
        "# test_df[\"split\"]=\"test\""
      ],
      "execution_count": 291,
      "outputs": []
    },
    {
      "cell_type": "code",
      "metadata": {
        "id": "6buoTXvIDVpW"
      },
      "source": [
        "# dataframe = pd.concat([data_df, test_df], axis=0)"
      ],
      "execution_count": 297,
      "outputs": []
    },
    {
      "cell_type": "code",
      "metadata": {
        "colab": {
          "base_uri": "https://localhost:8080/"
        },
        "id": "SdmjwdcdD0Ux",
        "outputId": "26813ac3-f015-4adc-eab8-0b195438c80d"
      },
      "source": [
        "# dataframe_df=encode(dataframe)"
      ],
      "execution_count": 299,
      "outputs": [
        {
          "output_type": "stream",
          "name": "stdout",
          "text": [
            "funder\n",
            "wpt_name\n",
            "basin\n",
            "subvillage\n",
            "region\n",
            "lga\n",
            "ward\n",
            "scheme_management\n",
            "extraction_type\n",
            "management\n",
            "payment_type\n",
            "water_quality\n",
            "quantity\n",
            "source\n",
            "waterpoint_type\n",
            "status_group\n"
          ]
        }
      ]
    },
    {
      "cell_type": "code",
      "metadata": {
        "id": "eMjK0cULEwcZ"
      },
      "source": [
        "# dataframe_df[\"status_group\"]=data_df[\"status_group\"]"
      ],
      "execution_count": 300,
      "outputs": []
    },
    {
      "cell_type": "code",
      "metadata": {
        "colab": {
          "base_uri": "https://localhost:8080/"
        },
        "id": "7X5_r3pQE-zM",
        "outputId": "b6400425-44fd-49c9-af98-649fb23998f8"
      },
      "source": [
        "# dataframe_df.split==\"train\""
      ],
      "execution_count": 301,
      "outputs": [
        {
          "output_type": "execute_result",
          "data": {
            "text/plain": [
              "0         True\n",
              "1         True\n",
              "2         True\n",
              "3         True\n",
              "4         True\n",
              "         ...  \n",
              "14845    False\n",
              "14846    False\n",
              "14847    False\n",
              "14848    False\n",
              "14849    False\n",
              "Name: split, Length: 74250, dtype: bool"
            ]
          },
          "metadata": {},
          "execution_count": 301
        }
      ]
    },
    {
      "cell_type": "code",
      "metadata": {
        "id": "ojRaS0U2E2lq"
      },
      "source": [
        "# data_df=dataframe_df.loc[dataframe_df.split==\"train\"].drop(columns=[\"split\"])\n",
        "# test_df=dataframe_df.loc[dataframe_df.split==\"test\"].drop(columns=[\"status_group\",\"split\"])"
      ],
      "execution_count": 309,
      "outputs": []
    },
    {
      "cell_type": "code",
      "metadata": {
        "id": "Bi1ey0FKEsGe"
      },
      "source": [
        "# from sklearn import preprocessing\n",
        "# from sklearn.model_selection import train_test_split\n",
        "# X_train, X_val, y_train, y_val = train_test_split(\n",
        "#     data_df.drop(columns=[\"status_group\",\"id\"]),\n",
        "#     data_df[\"status_group\"],\n",
        "#     test_size=0.3,\n",
        "#     shuffle=True,\n",
        "#     stratify=data[\"status_group\"],\n",
        "#     random_state=45)\n",
        "# # ,\"date_recorded\",\"subvillage\",\"public_meeting\",\"scheme_name\",\"permit\""
      ],
      "execution_count": 310,
      "outputs": []
    },
    {
      "cell_type": "code",
      "metadata": {
        "id": "OUWcPCZd6hJN",
        "colab": {
          "base_uri": "https://localhost:8080/"
        },
        "outputId": "4ba11c75-b901-406d-84f8-df55af065811"
      },
      "source": [
        "# from sklearn.ensemble import AdaBoostClassifier\n",
        "# from sklearn.tree import DecisionTreeClassifier\n",
        "# ada_clf = AdaBoostClassifier(DecisionTreeClassifier(max_depth=14), n_estimators=100,algorithm=\"SAMME.R\", learning_rate=0.0001)\n",
        "# ada_clf.fit(X_train,y_train)"
      ],
      "execution_count": 311,
      "outputs": [
        {
          "output_type": "execute_result",
          "data": {
            "text/plain": [
              "AdaBoostClassifier(algorithm='SAMME.R',\n",
              "                   base_estimator=DecisionTreeClassifier(ccp_alpha=0.0,\n",
              "                                                         class_weight=None,\n",
              "                                                         criterion='gini',\n",
              "                                                         max_depth=14,\n",
              "                                                         max_features=None,\n",
              "                                                         max_leaf_nodes=None,\n",
              "                                                         min_impurity_decrease=0.0,\n",
              "                                                         min_impurity_split=None,\n",
              "                                                         min_samples_leaf=1,\n",
              "                                                         min_samples_split=2,\n",
              "                                                         min_weight_fraction_leaf=0.0,\n",
              "                                                         presort='deprecated',\n",
              "                                                         random_state=None,\n",
              "                                                         splitter='best'),\n",
              "                   learning_rate=0.0001, n_estimators=100, random_state=None)"
            ]
          },
          "metadata": {},
          "execution_count": 311
        }
      ]
    },
    {
      "cell_type": "code",
      "metadata": {
        "id": "MxPke0TW7U9J"
      },
      "source": [
        "# y_pred=ada_clf.predict(X_val)\n",
        "# d=compute_metrics(y_pred,y_val)"
      ],
      "execution_count": 312,
      "outputs": []
    },
    {
      "cell_type": "code",
      "metadata": {
        "colab": {
          "base_uri": "https://localhost:8080/"
        },
        "id": "ZXw5dGPv-MUJ",
        "outputId": "c42f87fb-960a-48ef-de0e-9a0865278ee6"
      },
      "source": [
        "# print(\"{:}\\t{:}\\t{:}\\t{:}\\t{:}\\t{:}\\t{:}\".format('prec-t','prec-f', 'rec-t','rec-f','f1-t','f1-f','accu'))  \n",
        "# print (\"{:.3f}\\t{:.3f}\\t{:.3f}\\t{:.3f}\\t{:.3f}\\t{:.3f}\\t{:.3f}\".format(d['precision'][0],d['precision'][1], d['recall'][0],d['recall'][1],d['f1'][0],d['f1'][1],d['accuracy']))"
      ],
      "execution_count": 314,
      "outputs": [
        {
          "output_type": "stream",
          "name": "stdout",
          "text": [
            "prec-t\tprec-f\trec-t\trec-f\tf1-t\tf1-f\taccu\n",
            "0.762\t0.478\t0.862\t0.262\t0.809\t0.338\t0.759\n"
          ]
        }
      ]
    },
    {
      "cell_type": "markdown",
      "metadata": {
        "id": "d6Doekg4zjEx"
      },
      "source": [
        "# Experimenting with data"
      ]
    },
    {
      "cell_type": "markdown",
      "metadata": {
        "id": "8pYi6uyg_aGF"
      },
      "source": [
        "## plots and exploring data (No need to rerun)"
      ]
    },
    {
      "cell_type": "code",
      "metadata": {
        "id": "x668atnHDNw-",
        "colab": {
          "base_uri": "https://localhost:8080/",
          "height": 401
        },
        "outputId": "7f863910-0b57-4119-a993-3ad0bcd0438e"
      },
      "source": [
        "plt.figure()\n",
        "sns.countplot(data.status_group)\n",
        "data.status_group.value_counts()"
      ],
      "execution_count": 102,
      "outputs": [
        {
          "output_type": "stream",
          "name": "stderr",
          "text": [
            "/usr/local/lib/python3.7/dist-packages/seaborn/_decorators.py:43: FutureWarning: Pass the following variable as a keyword arg: x. From version 0.12, the only valid positional argument will be `data`, and passing other arguments without an explicit keyword will result in an error or misinterpretation.\n",
            "  FutureWarning\n"
          ]
        },
        {
          "output_type": "execute_result",
          "data": {
            "text/plain": [
              "functional                 32259\n",
              "non functional             22824\n",
              "functional needs repair     4317\n",
              "Name: status_group, dtype: int64"
            ]
          },
          "metadata": {},
          "execution_count": 102
        },
        {
          "output_type": "display_data",
          "data": {
            "image/png": "[encoded data removed]",
            "text/plain": [
              "<Figure size 432x288 with 1 Axes>"
            ]
          },
          "metadata": {
            "needs_background": "light"
          }
        }
      ]
    },
    {
      "cell_type": "code",
      "metadata": {
        "id": "i4FuSKM__IfK",
        "colab": {
          "base_uri": "https://localhost:8080/"
        },
        "outputId": "bae923bf-13e8-4baf-a039-3483c2a7c24f"
      },
      "source": [
        "data.groupby(['waterpoint_type', 'waterpoint_type_group']).size() "
      ],
      "execution_count": 104,
      "outputs": [
        {
          "output_type": "execute_result",
          "data": {
            "text/plain": [
              "waterpoint_type              waterpoint_type_group\n",
              "cattle trough                cattle trough              116\n",
              "communal standpipe           communal standpipe       28522\n",
              "communal standpipe multiple  communal standpipe        6103\n",
              "dam                          dam                          7\n",
              "hand pump                    hand pump                17488\n",
              "improved spring              improved spring            784\n",
              "other                        other                     6380\n",
              "dtype: int64"
            ]
          },
          "metadata": {},
          "execution_count": 104
        }
      ]
    },
    {
      "cell_type": "code",
      "metadata": {
        "id": "wNexmtOJ_N4t"
      },
      "source": [
        "col_drop.append(\"waterpoint_type_group\")"
      ],
      "execution_count": 105,
      "outputs": []
    },
    {
      "cell_type": "code",
      "metadata": {
        "colab": {
          "base_uri": "https://localhost:8080/"
        },
        "id": "Ouvb9dCGqAWn",
        "outputId": "e9bdf3ce-fa70-4eb3-e9b4-5cc2c60d837f"
      },
      "source": [
        "data.installer.value_counts()\n"
      ],
      "execution_count": 120,
      "outputs": [
        {
          "output_type": "execute_result",
          "data": {
            "text/plain": [
              "DWE                  17402\n",
              "Government            1825\n",
              "RWE                   1206\n",
              "Commu                 1060\n",
              "DANIDA                1050\n",
              "                     ...  \n",
              "HOWARD HUMFREYS          1\n",
              "Ministry of water        1\n",
              "LOMOLOKI                 1\n",
              "CCP                      1\n",
              "Kidika                   1\n",
              "Name: installer, Length: 2145, dtype: int64"
            ]
          },
          "metadata": {},
          "execution_count": 120
        }
      ]
    },
    {
      "cell_type": "code",
      "metadata": {
        "colab": {
          "base_uri": "https://localhost:8080/"
        },
        "id": "5E5mUF1ZqAI7",
        "outputId": "7360ebc6-f9ea-4e05-a875-250c8fcac47e"
      },
      "source": [
        "data.funder.value_counts()\n"
      ],
      "execution_count": 121,
      "outputs": [
        {
          "output_type": "execute_result",
          "data": {
            "text/plain": [
              "Government Of Tanzania      9084\n",
              "Danida                      3114\n",
              "Hesawa                      2202\n",
              "Rwssp                       1374\n",
              "World Bank                  1349\n",
              "                            ... \n",
              "Rudri                          1\n",
              "Engineers Without Border       1\n",
              "Kalitesi                       1\n",
              "Redet                          1\n",
              "Mwalimu Muhenza                1\n",
              "Name: funder, Length: 1897, dtype: int64"
            ]
          },
          "metadata": {},
          "execution_count": 121
        }
      ]
    },
    {
      "cell_type": "code",
      "metadata": {
        "id": "9HUzh8lNACzF",
        "colab": {
          "base_uri": "https://localhost:8080/"
        },
        "outputId": "298380c4-5da5-4989-cb98-724671299096"
      },
      "source": [
        "data.groupby(['installer', 'funder','status_group']).size()"
      ],
      "execution_count": 116,
      "outputs": [
        {
          "output_type": "execute_result",
          "data": {
            "text/plain": [
              "installer       funder                  status_group           \n",
              "-               Government Of Tanzania  functional                   1\n",
              "                                        non functional               1\n",
              "                Kalebejo Parish         functional                   1\n",
              "0               0                       functional                 445\n",
              "                                        functional needs repair      3\n",
              "                                                                  ... \n",
              "wizara ya maji  Serikali                functional                   2\n",
              "world           World Bank              functional needs repair      1\n",
              "                                        non functional               3\n",
              "world banks     World Bank              non functional               1\n",
              "world vision    World Vision            functional                   1\n",
              "Length: 5188, dtype: int64"
            ]
          },
          "metadata": {},
          "execution_count": 116
        }
      ]
    },
    {
      "cell_type": "code",
      "metadata": {
        "id": "bipXPkhQADbV"
      },
      "source": [
        "col_drop.append(\"installer\")"
      ],
      "execution_count": 117,
      "outputs": []
    },
    {
      "cell_type": "code",
      "metadata": {
        "id": "cRnHJkz8BsTZ",
        "colab": {
          "base_uri": "https://localhost:8080/"
        },
        "outputId": "4ee0851a-86f6-44db-d92b-3eadc1099560"
      },
      "source": [
        "data.lga.value_counts()"
      ],
      "execution_count": 118,
      "outputs": [
        {
          "output_type": "execute_result",
          "data": {
            "text/plain": [
              "Njombe          2503\n",
              "Arusha Rural    1252\n",
              "Moshi Rural     1251\n",
              "Bariadi         1177\n",
              "Rungwe          1106\n",
              "                ... \n",
              "Moshi Urban       79\n",
              "Kigoma Urban      71\n",
              "Arusha Urban      63\n",
              "Lindi Urban       21\n",
              "Nyamagana          1\n",
              "Name: lga, Length: 125, dtype: int64"
            ]
          },
          "metadata": {},
          "execution_count": 118
        }
      ]
    },
    {
      "cell_type": "code",
      "metadata": {
        "id": "Kl3g8Z6yBwss",
        "colab": {
          "base_uri": "https://localhost:8080/"
        },
        "outputId": "4df5e0fb-3df1-40ac-8b87-8e674ba0b63f"
      },
      "source": [
        "data.ward.value_counts()"
      ],
      "execution_count": 119,
      "outputs": [
        {
          "output_type": "execute_result",
          "data": {
            "text/plain": [
              "Igosi        307\n",
              "Imalinyi     252\n",
              "Siha Kati    232\n",
              "Mdandu       231\n",
              "Nduruma      217\n",
              "            ... \n",
              "Kitete         1\n",
              "Burungura      1\n",
              "Simbay         1\n",
              "Mkumbi         1\n",
              "Kapilula       1\n",
              "Name: ward, Length: 2092, dtype: int64"
            ]
          },
          "metadata": {},
          "execution_count": 119
        }
      ]
    },
    {
      "cell_type": "code",
      "metadata": {
        "id": "3L3ZiroQBFHD",
        "colab": {
          "base_uri": "https://localhost:8080/"
        },
        "outputId": "b456752a-6bbe-47ac-dcbe-1640f65bbc5c"
      },
      "source": [
        "print(data.groupby(['lga', 'ward','status_group']).size() )"
      ],
      "execution_count": 122,
      "outputs": [
        {
          "output_type": "stream",
          "name": "stdout",
          "text": [
            "lga           ward     status_group           \n",
            "Arusha Rural  Bangata  functional                 21\n",
            "                       functional needs repair     2\n",
            "                       non functional             10\n",
            "              Bwawani  functional                 12\n",
            "                       non functional             25\n",
            "                                                  ..\n",
            "Uyui          Ufuluma  non functional             10\n",
            "              Upuge    functional                  7\n",
            "                       non functional             11\n",
            "              Usagali  functional                  8\n",
            "                       non functional             17\n",
            "Length: 5070, dtype: int64\n"
          ]
        }
      ]
    },
    {
      "cell_type": "code",
      "metadata": {
        "id": "eg9VAjH-BdwX"
      },
      "source": [
        "# col_drop.append(\"ward\")\n",
        "# col_drop.append(\"lga\")"
      ],
      "execution_count": null,
      "outputs": []
    },
    {
      "cell_type": "code",
      "metadata": {
        "id": "JhMyV2ZZCGc_",
        "colab": {
          "base_uri": "https://localhost:8080/"
        },
        "outputId": "d00289d0-cca3-427f-93d2-7b92a139a1d2"
      },
      "source": [
        "data.scheme_name.value_counts()"
      ],
      "execution_count": 123,
      "outputs": [
        {
          "output_type": "execute_result",
          "data": {
            "text/plain": [
              "K                       682\n",
              "None                    644\n",
              "Borehole                546\n",
              "Chalinze wate           405\n",
              "M                       400\n",
              "                       ... \n",
              "Kisa                      1\n",
              "Bl Aziz water supply      1\n",
              "Kwam                      1\n",
              "Mlima wa Nyasho           1\n",
              "Sukuro pipe scheme        1\n",
              "Name: scheme_name, Length: 2696, dtype: int64"
            ]
          },
          "metadata": {},
          "execution_count": 123
        }
      ]
    },
    {
      "cell_type": "code",
      "metadata": {
        "id": "ShP3MjMlCVnz",
        "colab": {
          "base_uri": "https://localhost:8080/"
        },
        "outputId": "dc9404d3-9986-4220-ef50-549cd266d0aa"
      },
      "source": [
        "data.scheme_management.value_counts()"
      ],
      "execution_count": 124,
      "outputs": [
        {
          "output_type": "execute_result",
          "data": {
            "text/plain": [
              "VWC                 36793\n",
              "WUG                  5206\n",
              "Water authority      3153\n",
              "WUA                  2883\n",
              "Water Board          2748\n",
              "Parastatal           1680\n",
              "Private operator     1063\n",
              "Company              1061\n",
              "Other                 766\n",
              "SWC                    97\n",
              "Trust                  72\n",
              "None                    1\n",
              "Name: scheme_management, dtype: int64"
            ]
          },
          "metadata": {},
          "execution_count": 124
        }
      ]
    },
    {
      "cell_type": "code",
      "metadata": {
        "id": "4izfznQIBd_d",
        "colab": {
          "base_uri": "https://localhost:8080/"
        },
        "outputId": "3fd9735b-847f-4bf3-f393-7292ad233d4b"
      },
      "source": [
        "data.groupby(['scheme_management', 'scheme_name']).size() \n"
      ],
      "execution_count": 125,
      "outputs": [
        {
          "output_type": "execute_result",
          "data": {
            "text/plain": [
              "scheme_management  scheme_name              \n",
              "Company            BFFS                           1\n",
              "                   Bagamoyo Wate                 60\n",
              "                   Bagamoyo wate                210\n",
              "                   Borehole                       1\n",
              "                   Borehole drilling project      1\n",
              "                                               ... \n",
              "Water authority    Yongoma                       16\n",
              "                   Zepalama                       5\n",
              "                   no scheme                      9\n",
              "                   pump                           2\n",
              "                   water supply at Kalebejo       1\n",
              "Length: 3077, dtype: int64"
            ]
          },
          "metadata": {},
          "execution_count": 125
        }
      ]
    },
    {
      "cell_type": "code",
      "metadata": {
        "id": "n1e4xV-TCcXE"
      },
      "source": [
        "col_drop.append(\"scheme_name\")"
      ],
      "execution_count": 126,
      "outputs": []
    },
    {
      "cell_type": "code",
      "metadata": {
        "id": "0kIVhbVmCu4B",
        "colab": {
          "base_uri": "https://localhost:8080/",
          "height": 746
        },
        "outputId": "e94114a8-f7a8-4025-a91e-1d80518f965d"
      },
      "source": [
        "sns.FacetGrid(data, hue='status_group',height=10).map(sns.kdeplot, 'gps_height', shade=True).add_legend()"
      ],
      "execution_count": 128,
      "outputs": [
        {
          "output_type": "execute_result",
          "data": {
            "text/plain": [
              "<seaborn.axisgrid.FacetGrid at 0x7fe96689eb50>"
            ]
          },
          "metadata": {},
          "execution_count": 128
        },
        {
          "output_type": "display_data",
          "data": {
            "image/png": "[encoded data removed]",
            "text/plain": [
              "<Figure size 871.875x720 with 1 Axes>"
            ]
          },
          "metadata": {
            "needs_background": "light"
          }
        }
      ]
    },
    {
      "cell_type": "code",
      "metadata": {
        "id": "VDPiwuTJC1bg",
        "colab": {
          "base_uri": "https://localhost:8080/",
          "height": 746
        },
        "outputId": "f836f4bc-d31b-44c9-c424-12b5bcb0186c"
      },
      "source": [
        "sns.FacetGrid(data.loc[data.population<2500], hue='status_group',height=10).map(sns.kdeplot, 'population', shade=True).add_legend()"
      ],
      "execution_count": 136,
      "outputs": [
        {
          "output_type": "execute_result",
          "data": {
            "text/plain": [
              "<seaborn.axisgrid.FacetGrid at 0x7fe95dc50190>"
            ]
          },
          "metadata": {},
          "execution_count": 136
        },
        {
          "output_type": "display_data",
          "data": {
            "image/png": "[encoded data removed]",
            "text/plain": [
              "<Figure size 871.875x720 with 1 Axes>"
            ]
          },
          "metadata": {
            "needs_background": "light"
          }
        }
      ]
    },
    {
      "cell_type": "code",
      "metadata": {
        "colab": {
          "base_uri": "https://localhost:8080/",
          "height": 773
        },
        "id": "NG9icD5IrDI8",
        "outputId": "8f830563-d82b-447b-a365-163da1f3eab3"
      },
      "source": [
        "test_.loc[test_.population>2500]"
      ],
      "execution_count": 134,
      "outputs": [
        {
          "output_type": "execute_result",
          "data": {
            "text/html": [
              "<div>\n",
              "<style scoped>\n",
              "    .dataframe tbody tr th:only-of-type {\n",
              "        vertical-align: middle;\n",
              "    }\n",
              "\n",
              "    .dataframe tbody tr th {\n",
              "        vertical-align: top;\n",
              "    }\n",
              "\n",
              "    .dataframe thead th {\n",
              "        text-align: right;\n",
              "    }\n",
              "</style>\n",
              "<table border=\"1\" class=\"dataframe\">\n",
              "  <thead>\n",
              "    <tr style=\"text-align: right;\">\n",
              "      <th></th>\n",
              "      <th>id</th>\n",
              "      <th>amount_tsh</th>\n",
              "      <th>date_recorded</th>\n",
              "      <th>funder</th>\n",
              "      <th>gps_height</th>\n",
              "      <th>installer</th>\n",
              "      <th>longitude</th>\n",
              "      <th>latitude</th>\n",
              "      <th>wpt_name</th>\n",
              "      <th>num_private</th>\n",
              "      <th>basin</th>\n",
              "      <th>subvillage</th>\n",
              "      <th>region</th>\n",
              "      <th>region_code</th>\n",
              "      <th>district_code</th>\n",
              "      <th>lga</th>\n",
              "      <th>ward</th>\n",
              "      <th>population</th>\n",
              "      <th>public_meeting</th>\n",
              "      <th>recorded_by</th>\n",
              "      <th>scheme_management</th>\n",
              "      <th>scheme_name</th>\n",
              "      <th>permit</th>\n",
              "      <th>construction_year</th>\n",
              "      <th>extraction_type</th>\n",
              "      <th>extraction_type_group</th>\n",
              "      <th>extraction_type_class</th>\n",
              "      <th>management</th>\n",
              "      <th>management_group</th>\n",
              "      <th>payment</th>\n",
              "      <th>payment_type</th>\n",
              "      <th>water_quality</th>\n",
              "      <th>quality_group</th>\n",
              "      <th>quantity</th>\n",
              "      <th>quantity_group</th>\n",
              "      <th>source</th>\n",
              "      <th>source_type</th>\n",
              "      <th>source_class</th>\n",
              "      <th>waterpoint_type</th>\n",
              "      <th>waterpoint_type_group</th>\n",
              "    </tr>\n",
              "  </thead>\n",
              "  <tbody>\n",
              "    <tr>\n",
              "      <th>360</th>\n",
              "      <td>69131</td>\n",
              "      <td>50.0</td>\n",
              "      <td>2013-01-23</td>\n",
              "      <td>Anglican Church</td>\n",
              "      <td>383</td>\n",
              "      <td>Anglikana</td>\n",
              "      <td>38.580871</td>\n",
              "      <td>-10.628516</td>\n",
              "      <td>Darajani</td>\n",
              "      <td>0</td>\n",
              "      <td>Ruvuma / Southern Coast</td>\n",
              "      <td>Mkwajuni</td>\n",
              "      <td>Mtwara</td>\n",
              "      <td>90</td>\n",
              "      <td>33</td>\n",
              "      <td>Masasi</td>\n",
              "      <td>Namatutwe</td>\n",
              "      <td>3000</td>\n",
              "      <td>True</td>\n",
              "      <td>GeoData Consultants Ltd</td>\n",
              "      <td>VWC</td>\n",
              "      <td>NaN</td>\n",
              "      <td>True</td>\n",
              "      <td>2009</td>\n",
              "      <td>india mark ii</td>\n",
              "      <td>india mark ii</td>\n",
              "      <td>handpump</td>\n",
              "      <td>vwc</td>\n",
              "      <td>user-group</td>\n",
              "      <td>pay per bucket</td>\n",
              "      <td>per bucket</td>\n",
              "      <td>salty</td>\n",
              "      <td>salty</td>\n",
              "      <td>enough</td>\n",
              "      <td>enough</td>\n",
              "      <td>machine dbh</td>\n",
              "      <td>borehole</td>\n",
              "      <td>groundwater</td>\n",
              "      <td>hand pump</td>\n",
              "      <td>hand pump</td>\n",
              "    </tr>\n",
              "    <tr>\n",
              "      <th>417</th>\n",
              "      <td>46606</td>\n",
              "      <td>0.0</td>\n",
              "      <td>2013-02-25</td>\n",
              "      <td>Hesawa</td>\n",
              "      <td>1477</td>\n",
              "      <td>HESAWA</td>\n",
              "      <td>34.613878</td>\n",
              "      <td>-1.737123</td>\n",
              "      <td>Peter Ntera</td>\n",
              "      <td>0</td>\n",
              "      <td>Lake Victoria</td>\n",
              "      <td>Kwanina</td>\n",
              "      <td>Mara</td>\n",
              "      <td>20</td>\n",
              "      <td>2</td>\n",
              "      <td>Serengeti</td>\n",
              "      <td>Rung'bure</td>\n",
              "      <td>4000</td>\n",
              "      <td>NaN</td>\n",
              "      <td>GeoData Consultants Ltd</td>\n",
              "      <td>Other</td>\n",
              "      <td>NaN</td>\n",
              "      <td>True</td>\n",
              "      <td>1995</td>\n",
              "      <td>swn 80</td>\n",
              "      <td>swn 80</td>\n",
              "      <td>handpump</td>\n",
              "      <td>wug</td>\n",
              "      <td>user-group</td>\n",
              "      <td>unknown</td>\n",
              "      <td>unknown</td>\n",
              "      <td>salty</td>\n",
              "      <td>salty</td>\n",
              "      <td>enough</td>\n",
              "      <td>enough</td>\n",
              "      <td>machine dbh</td>\n",
              "      <td>borehole</td>\n",
              "      <td>groundwater</td>\n",
              "      <td>hand pump</td>\n",
              "      <td>hand pump</td>\n",
              "    </tr>\n",
              "    <tr>\n",
              "      <th>548</th>\n",
              "      <td>49863</td>\n",
              "      <td>20.0</td>\n",
              "      <td>2011-02-24</td>\n",
              "      <td>Msikiti</td>\n",
              "      <td>-7</td>\n",
              "      <td>Priva</td>\n",
              "      <td>38.978975</td>\n",
              "      <td>-7.954094</td>\n",
              "      <td>Msikitini</td>\n",
              "      <td>5</td>\n",
              "      <td>Rufiji</td>\n",
              "      <td>Kingwande</td>\n",
              "      <td>Pwani</td>\n",
              "      <td>60</td>\n",
              "      <td>53</td>\n",
              "      <td>Rufiji</td>\n",
              "      <td>Ikwiriri</td>\n",
              "      <td>3226</td>\n",
              "      <td>True</td>\n",
              "      <td>GeoData Consultants Ltd</td>\n",
              "      <td>Private operator</td>\n",
              "      <td>NaN</td>\n",
              "      <td>False</td>\n",
              "      <td>2009</td>\n",
              "      <td>mono</td>\n",
              "      <td>mono</td>\n",
              "      <td>motorpump</td>\n",
              "      <td>private operator</td>\n",
              "      <td>commercial</td>\n",
              "      <td>pay per bucket</td>\n",
              "      <td>per bucket</td>\n",
              "      <td>soft</td>\n",
              "      <td>good</td>\n",
              "      <td>enough</td>\n",
              "      <td>enough</td>\n",
              "      <td>machine dbh</td>\n",
              "      <td>borehole</td>\n",
              "      <td>groundwater</td>\n",
              "      <td>communal standpipe</td>\n",
              "      <td>communal standpipe</td>\n",
              "    </tr>\n",
              "    <tr>\n",
              "      <th>650</th>\n",
              "      <td>74223</td>\n",
              "      <td>150.0</td>\n",
              "      <td>2011-08-11</td>\n",
              "      <td>Uwamalu</td>\n",
              "      <td>534</td>\n",
              "      <td>Uwamalu</td>\n",
              "      <td>37.627511</td>\n",
              "      <td>-6.745134</td>\n",
              "      <td>Kwa Bago</td>\n",
              "      <td>0</td>\n",
              "      <td>Wami / Ruvu</td>\n",
              "      <td>Majengo Mapya</td>\n",
              "      <td>Morogoro</td>\n",
              "      <td>5</td>\n",
              "      <td>5</td>\n",
              "      <td>Morogoro Urban</td>\n",
              "      <td>Kihonda</td>\n",
              "      <td>4000</td>\n",
              "      <td>True</td>\n",
              "      <td>GeoData Consultants Ltd</td>\n",
              "      <td>VWC</td>\n",
              "      <td>Uwamalu</td>\n",
              "      <td>True</td>\n",
              "      <td>2008</td>\n",
              "      <td>gravity</td>\n",
              "      <td>gravity</td>\n",
              "      <td>gravity</td>\n",
              "      <td>vwc</td>\n",
              "      <td>user-group</td>\n",
              "      <td>pay per bucket</td>\n",
              "      <td>per bucket</td>\n",
              "      <td>soft</td>\n",
              "      <td>good</td>\n",
              "      <td>enough</td>\n",
              "      <td>enough</td>\n",
              "      <td>spring</td>\n",
              "      <td>spring</td>\n",
              "      <td>groundwater</td>\n",
              "      <td>communal standpipe</td>\n",
              "      <td>communal standpipe</td>\n",
              "    </tr>\n",
              "    <tr>\n",
              "      <th>659</th>\n",
              "      <td>23175</td>\n",
              "      <td>30.0</td>\n",
              "      <td>2011-02-24</td>\n",
              "      <td>Private</td>\n",
              "      <td>-48</td>\n",
              "      <td>Priva</td>\n",
              "      <td>38.976944</td>\n",
              "      <td>-7.951810</td>\n",
              "      <td>Mwangaya</td>\n",
              "      <td>5</td>\n",
              "      <td>Rufiji</td>\n",
              "      <td>Malepea</td>\n",
              "      <td>Pwani</td>\n",
              "      <td>60</td>\n",
              "      <td>53</td>\n",
              "      <td>Rufiji</td>\n",
              "      <td>Ikwiriri</td>\n",
              "      <td>3226</td>\n",
              "      <td>False</td>\n",
              "      <td>GeoData Consultants Ltd</td>\n",
              "      <td>VWC</td>\n",
              "      <td>NaN</td>\n",
              "      <td>False</td>\n",
              "      <td>2007</td>\n",
              "      <td>mono</td>\n",
              "      <td>mono</td>\n",
              "      <td>motorpump</td>\n",
              "      <td>vwc</td>\n",
              "      <td>user-group</td>\n",
              "      <td>pay per bucket</td>\n",
              "      <td>per bucket</td>\n",
              "      <td>soft</td>\n",
              "      <td>good</td>\n",
              "      <td>enough</td>\n",
              "      <td>enough</td>\n",
              "      <td>machine dbh</td>\n",
              "      <td>borehole</td>\n",
              "      <td>groundwater</td>\n",
              "      <td>hand pump</td>\n",
              "      <td>hand pump</td>\n",
              "    </tr>\n",
              "    <tr>\n",
              "      <th>...</th>\n",
              "      <td>...</td>\n",
              "      <td>...</td>\n",
              "      <td>...</td>\n",
              "      <td>...</td>\n",
              "      <td>...</td>\n",
              "      <td>...</td>\n",
              "      <td>...</td>\n",
              "      <td>...</td>\n",
              "      <td>...</td>\n",
              "      <td>...</td>\n",
              "      <td>...</td>\n",
              "      <td>...</td>\n",
              "      <td>...</td>\n",
              "      <td>...</td>\n",
              "      <td>...</td>\n",
              "      <td>...</td>\n",
              "      <td>...</td>\n",
              "      <td>...</td>\n",
              "      <td>...</td>\n",
              "      <td>...</td>\n",
              "      <td>...</td>\n",
              "      <td>...</td>\n",
              "      <td>...</td>\n",
              "      <td>...</td>\n",
              "      <td>...</td>\n",
              "      <td>...</td>\n",
              "      <td>...</td>\n",
              "      <td>...</td>\n",
              "      <td>...</td>\n",
              "      <td>...</td>\n",
              "      <td>...</td>\n",
              "      <td>...</td>\n",
              "      <td>...</td>\n",
              "      <td>...</td>\n",
              "      <td>...</td>\n",
              "      <td>...</td>\n",
              "      <td>...</td>\n",
              "      <td>...</td>\n",
              "      <td>...</td>\n",
              "      <td>...</td>\n",
              "    </tr>\n",
              "    <tr>\n",
              "      <th>14448</th>\n",
              "      <td>12657</td>\n",
              "      <td>0.0</td>\n",
              "      <td>2013-01-23</td>\n",
              "      <td>Kuwasa</td>\n",
              "      <td>829</td>\n",
              "      <td>KUWASA</td>\n",
              "      <td>29.664855</td>\n",
              "      <td>-4.867519</td>\n",
              "      <td>Kwa Siwazui</td>\n",
              "      <td>0</td>\n",
              "      <td>Lake Tanganyika</td>\n",
              "      <td>Masanga</td>\n",
              "      <td>Kigoma</td>\n",
              "      <td>16</td>\n",
              "      <td>4</td>\n",
              "      <td>Kigoma Urban</td>\n",
              "      <td>Buhanda businde</td>\n",
              "      <td>2554</td>\n",
              "      <td>False</td>\n",
              "      <td>GeoData Consultants Ltd</td>\n",
              "      <td>Other</td>\n",
              "      <td>Mradi wa maji wa buhanda</td>\n",
              "      <td>True</td>\n",
              "      <td>1980</td>\n",
              "      <td>other</td>\n",
              "      <td>other</td>\n",
              "      <td>other</td>\n",
              "      <td>other</td>\n",
              "      <td>other</td>\n",
              "      <td>never pay</td>\n",
              "      <td>never pay</td>\n",
              "      <td>soft</td>\n",
              "      <td>good</td>\n",
              "      <td>dry</td>\n",
              "      <td>dry</td>\n",
              "      <td>lake</td>\n",
              "      <td>river/lake</td>\n",
              "      <td>surface</td>\n",
              "      <td>communal standpipe multiple</td>\n",
              "      <td>communal standpipe</td>\n",
              "    </tr>\n",
              "    <tr>\n",
              "      <th>14481</th>\n",
              "      <td>22127</td>\n",
              "      <td>10.0</td>\n",
              "      <td>2013-07-03</td>\n",
              "      <td>Germany Republi</td>\n",
              "      <td>898</td>\n",
              "      <td>CES</td>\n",
              "      <td>37.110094</td>\n",
              "      <td>-3.409521</td>\n",
              "      <td>Area 16 Namba</td>\n",
              "      <td>0</td>\n",
              "      <td>Pangani</td>\n",
              "      <td>Parestina</td>\n",
              "      <td>Kilimanjaro</td>\n",
              "      <td>3</td>\n",
              "      <td>5</td>\n",
              "      <td>Hai</td>\n",
              "      <td>Masama Rundugai</td>\n",
              "      <td>7600</td>\n",
              "      <td>True</td>\n",
              "      <td>GeoData Consultants Ltd</td>\n",
              "      <td>Water Board</td>\n",
              "      <td>Losaa-Kia water supply</td>\n",
              "      <td>True</td>\n",
              "      <td>1999</td>\n",
              "      <td>gravity</td>\n",
              "      <td>gravity</td>\n",
              "      <td>gravity</td>\n",
              "      <td>water board</td>\n",
              "      <td>user-group</td>\n",
              "      <td>pay per bucket</td>\n",
              "      <td>per bucket</td>\n",
              "      <td>soft</td>\n",
              "      <td>good</td>\n",
              "      <td>enough</td>\n",
              "      <td>enough</td>\n",
              "      <td>spring</td>\n",
              "      <td>spring</td>\n",
              "      <td>groundwater</td>\n",
              "      <td>communal standpipe</td>\n",
              "      <td>communal standpipe</td>\n",
              "    </tr>\n",
              "    <tr>\n",
              "      <th>14500</th>\n",
              "      <td>52658</td>\n",
              "      <td>500.0</td>\n",
              "      <td>2012-10-30</td>\n",
              "      <td>Jika</td>\n",
              "      <td>1204</td>\n",
              "      <td>Jika</td>\n",
              "      <td>34.091829</td>\n",
              "      <td>-1.429240</td>\n",
              "      <td>Namba Mlili</td>\n",
              "      <td>0</td>\n",
              "      <td>Lake Victoria</td>\n",
              "      <td>Kisumwa</td>\n",
              "      <td>Mara</td>\n",
              "      <td>20</td>\n",
              "      <td>6</td>\n",
              "      <td>Rorya</td>\n",
              "      <td>Kisumwa</td>\n",
              "      <td>4500</td>\n",
              "      <td>True</td>\n",
              "      <td>GeoData Consultants Ltd</td>\n",
              "      <td>NaN</td>\n",
              "      <td>NaN</td>\n",
              "      <td>True</td>\n",
              "      <td>2011</td>\n",
              "      <td>afridev</td>\n",
              "      <td>afridev</td>\n",
              "      <td>handpump</td>\n",
              "      <td>vwc</td>\n",
              "      <td>user-group</td>\n",
              "      <td>pay monthly</td>\n",
              "      <td>monthly</td>\n",
              "      <td>salty</td>\n",
              "      <td>salty</td>\n",
              "      <td>enough</td>\n",
              "      <td>enough</td>\n",
              "      <td>shallow well</td>\n",
              "      <td>shallow well</td>\n",
              "      <td>groundwater</td>\n",
              "      <td>hand pump</td>\n",
              "      <td>hand pump</td>\n",
              "    </tr>\n",
              "    <tr>\n",
              "      <th>14652</th>\n",
              "      <td>34837</td>\n",
              "      <td>0.0</td>\n",
              "      <td>2013-01-17</td>\n",
              "      <td>Oxfarm</td>\n",
              "      <td>1170</td>\n",
              "      <td>OXFARM</td>\n",
              "      <td>30.324773</td>\n",
              "      <td>-3.858649</td>\n",
              "      <td>Bungwe</td>\n",
              "      <td>0</td>\n",
              "      <td>Lake Tanganyika</td>\n",
              "      <td>Kariba</td>\n",
              "      <td>Kigoma</td>\n",
              "      <td>16</td>\n",
              "      <td>2</td>\n",
              "      <td>Kasulu</td>\n",
              "      <td>Kitanga</td>\n",
              "      <td>4520</td>\n",
              "      <td>True</td>\n",
              "      <td>GeoData Consultants Ltd</td>\n",
              "      <td>Water authority</td>\n",
              "      <td>NaN</td>\n",
              "      <td>False</td>\n",
              "      <td>1994</td>\n",
              "      <td>nira/tanira</td>\n",
              "      <td>nira/tanira</td>\n",
              "      <td>handpump</td>\n",
              "      <td>vwc</td>\n",
              "      <td>user-group</td>\n",
              "      <td>never pay</td>\n",
              "      <td>never pay</td>\n",
              "      <td>soft</td>\n",
              "      <td>good</td>\n",
              "      <td>enough</td>\n",
              "      <td>enough</td>\n",
              "      <td>shallow well</td>\n",
              "      <td>shallow well</td>\n",
              "      <td>groundwater</td>\n",
              "      <td>hand pump</td>\n",
              "      <td>hand pump</td>\n",
              "    </tr>\n",
              "    <tr>\n",
              "      <th>14846</th>\n",
              "      <td>18990</td>\n",
              "      <td>1000.0</td>\n",
              "      <td>2011-03-21</td>\n",
              "      <td>Hiap</td>\n",
              "      <td>0</td>\n",
              "      <td>HIAP</td>\n",
              "      <td>37.451633</td>\n",
              "      <td>-5.350428</td>\n",
              "      <td>Bonde La Mkondoa</td>\n",
              "      <td>0</td>\n",
              "      <td>Pangani</td>\n",
              "      <td>Mkondoa</td>\n",
              "      <td>Tanga</td>\n",
              "      <td>4</td>\n",
              "      <td>7</td>\n",
              "      <td>Kilindi</td>\n",
              "      <td>Mvungwe</td>\n",
              "      <td>2960</td>\n",
              "      <td>True</td>\n",
              "      <td>GeoData Consultants Ltd</td>\n",
              "      <td>VWC</td>\n",
              "      <td>NaN</td>\n",
              "      <td>False</td>\n",
              "      <td>1994</td>\n",
              "      <td>nira/tanira</td>\n",
              "      <td>nira/tanira</td>\n",
              "      <td>handpump</td>\n",
              "      <td>vwc</td>\n",
              "      <td>user-group</td>\n",
              "      <td>pay annually</td>\n",
              "      <td>annually</td>\n",
              "      <td>salty</td>\n",
              "      <td>salty</td>\n",
              "      <td>insufficient</td>\n",
              "      <td>insufficient</td>\n",
              "      <td>shallow well</td>\n",
              "      <td>shallow well</td>\n",
              "      <td>groundwater</td>\n",
              "      <td>hand pump</td>\n",
              "      <td>hand pump</td>\n",
              "    </tr>\n",
              "  </tbody>\n",
              "</table>\n",
              "<p>107 rows × 40 columns</p>\n",
              "</div>"
            ],
            "text/plain": [
              "          id  amount_tsh  ...              waterpoint_type waterpoint_type_group\n",
              "360    69131        50.0  ...                    hand pump             hand pump\n",
              "417    46606         0.0  ...                    hand pump             hand pump\n",
              "548    49863        20.0  ...           communal standpipe    communal standpipe\n",
              "650    74223       150.0  ...           communal standpipe    communal standpipe\n",
              "659    23175        30.0  ...                    hand pump             hand pump\n",
              "...      ...         ...  ...                          ...                   ...\n",
              "14448  12657         0.0  ...  communal standpipe multiple    communal standpipe\n",
              "14481  22127        10.0  ...           communal standpipe    communal standpipe\n",
              "14500  52658       500.0  ...                    hand pump             hand pump\n",
              "14652  34837         0.0  ...                    hand pump             hand pump\n",
              "14846  18990      1000.0  ...                    hand pump             hand pump\n",
              "\n",
              "[107 rows x 40 columns]"
            ]
          },
          "metadata": {},
          "execution_count": 134
        }
      ]
    },
    {
      "cell_type": "code",
      "metadata": {
        "id": "vXSeQVISC6uq",
        "colab": {
          "base_uri": "https://localhost:8080/",
          "height": 746
        },
        "outputId": "2339101d-0c4e-410a-efd8-badf073f903b"
      },
      "source": [
        "sns.FacetGrid(data.loc[data.amount_tsh<5000], hue='status_group',height=10).map(sns.kdeplot, 'amount_tsh', shade=True).add_legend()"
      ],
      "execution_count": 145,
      "outputs": [
        {
          "output_type": "execute_result",
          "data": {
            "text/plain": [
              "<seaborn.axisgrid.FacetGrid at 0x7fe95dd04c90>"
            ]
          },
          "metadata": {},
          "execution_count": 145
        },
        {
          "output_type": "display_data",
          "data": {
            "image/png": "[encoded data removed]",
            "text/plain": [
              "<Figure size 871.875x720 with 1 Axes>"
            ]
          },
          "metadata": {
            "needs_background": "light"
          }
        }
      ]
    },
    {
      "cell_type": "code",
      "metadata": {
        "colab": {
          "base_uri": "https://localhost:8080/"
        },
        "id": "jkn2FpyesLus",
        "outputId": "2b656cab-ace9-481f-eec0-7fb93b8a4ae5"
      },
      "source": [
        "data.amount_tsh.describe()"
      ],
      "execution_count": 137,
      "outputs": [
        {
          "output_type": "execute_result",
          "data": {
            "text/plain": [
              "count     59400.000000\n",
              "mean        317.650385\n",
              "std        2997.574558\n",
              "min           0.000000\n",
              "25%           0.000000\n",
              "50%           0.000000\n",
              "75%          20.000000\n",
              "max      350000.000000\n",
              "Name: amount_tsh, dtype: float64"
            ]
          },
          "metadata": {},
          "execution_count": 137
        }
      ]
    },
    {
      "cell_type": "code",
      "metadata": {
        "colab": {
          "base_uri": "https://localhost:8080/"
        },
        "id": "4bSy0LrssUns",
        "outputId": "e20d8acc-6927-453b-b6ea-3af8742d686b"
      },
      "source": [
        "data.loc[data.amount_tsh>5000].shape"
      ],
      "execution_count": 146,
      "outputs": [
        {
          "output_type": "execute_result",
          "data": {
            "text/plain": [
              "(470, 41)"
            ]
          },
          "metadata": {},
          "execution_count": 146
        }
      ]
    },
    {
      "cell_type": "code",
      "metadata": {
        "id": "DicQI6E2wASa"
      },
      "source": [
        "data['gps_height'].replace(0.0, np.nan, inplace=True)\n",
        "data['population'].replace(0.0, np.nan, inplace=True)\n",
        "data['amount_tsh'].replace(0.0, np.nan, inplace=True)"
      ],
      "execution_count": 147,
      "outputs": []
    },
    {
      "cell_type": "code",
      "metadata": {
        "id": "-duFNpX-mJmP"
      },
      "source": [
        "data[\"gps_height\"].fillna(data.groupby(['region', 'district_code'])[\"gps_height\"].transform(\"mean\"), inplace=True)\n",
        "data[\"gps_height\"].fillna(data.groupby(['region'])[\"gps_height\"].transform(\"mean\"), inplace=True)\n",
        "data[\"gps_height\"].fillna(data[\"gps_height\"].mean(), inplace=True)\n",
        "\n",
        "data[\"population\"].fillna(data.groupby(['region', 'district_code'])[\"population\"].transform(\"median\"), inplace=True)\n",
        "data[\"population\"].fillna(data.groupby(['region'])[\"population\"].transform(\"median\"), inplace=True)\n",
        "data[\"population\"].fillna(data[\"population\"].median(), inplace=True)\n",
        "\n",
        "data[\"amount_tsh\"].fillna(data.groupby(['region', 'district_code'])[\"amount_tsh\"].transform(\"median\"), inplace=True)\n",
        "data[\"amount_tsh\"].fillna(data.groupby(['region'])[\"amount_tsh\"].transform(\"median\"), inplace=True)\n",
        "data[\"amount_tsh\"].fillna(data[\"amount_tsh\"].median(), inplace=True)"
      ],
      "execution_count": 148,
      "outputs": []
    },
    {
      "cell_type": "code",
      "metadata": {
        "id": "eA-TizlbmJmU",
        "colab": {
          "base_uri": "https://localhost:8080/",
          "height": 542
        },
        "outputId": "e13aa7b2-a37f-4be5-e5b6-9dbb32610da3"
      },
      "source": [
        "plt.figure(figsize=(10,6))\n",
        "sns.countplot(data=data,x='water_quality',hue='status_group')\n",
        "data.water_quality.value_counts()"
      ],
      "execution_count": 149,
      "outputs": [
        {
          "output_type": "execute_result",
          "data": {
            "text/plain": [
              "soft                  50818\n",
              "salty                  4856\n",
              "unknown                1876\n",
              "milky                   804\n",
              "coloured                490\n",
              "salty abandoned         339\n",
              "fluoride                200\n",
              "fluoride abandoned       17\n",
              "Name: water_quality, dtype: int64"
            ]
          },
          "metadata": {},
          "execution_count": 149
        },
        {
          "output_type": "display_data",
          "data": {
            "image/png": "[encoded data removed]",
            "text/plain": [
              "<Figure size 720x432 with 1 Axes>"
            ]
          },
          "metadata": {
            "needs_background": "light"
          }
        }
      ]
    },
    {
      "cell_type": "code",
      "metadata": {
        "id": "E33jRWnumJmX",
        "colab": {
          "base_uri": "https://localhost:8080/",
          "height": 458
        },
        "outputId": "d2648676-82d8-4d55-fac1-84c797d6aace"
      },
      "source": [
        "#looking at regions\n",
        "plt.figure(figsize=(24, 9))\n",
        "\n",
        "sns.countplot(data=data,x='region',hue='status_group')"
      ],
      "execution_count": 150,
      "outputs": [
        {
          "output_type": "execute_result",
          "data": {
            "text/plain": [
              "<matplotlib.axes._subplots.AxesSubplot at 0x7fe95c3ca350>"
            ]
          },
          "metadata": {},
          "execution_count": 150
        },
        {
          "output_type": "display_data",
          "data": {
            "image/png": "[encoded data removed]",
            "text/plain": [
              "<Figure size 1728x648 with 1 Axes>"
            ]
          },
          "metadata": {
            "needs_background": "light"
          }
        }
      ]
    },
    {
      "cell_type": "code",
      "metadata": {
        "id": "-EqNmr0qmJog",
        "colab": {
          "base_uri": "https://localhost:8080/",
          "height": 569
        },
        "outputId": "8bffba89-f454-4457-ac9f-f1cbc3aaf2d1"
      },
      "source": [
        "plt.figure(figsize=(10, 9))\n",
        "\n",
        "sns.countplot(data=data,x='public_meeting',hue='status_group')"
      ],
      "execution_count": 151,
      "outputs": [
        {
          "output_type": "execute_result",
          "data": {
            "text/plain": [
              "<matplotlib.axes._subplots.AxesSubplot at 0x7fe95bf09850>"
            ]
          },
          "metadata": {},
          "execution_count": 151
        },
        {
          "output_type": "display_data",
          "data": {
            "image/png": "[encoded data removed]",
            "text/plain": [
              "<Figure size 720x648 with 1 Axes>"
            ]
          },
          "metadata": {
            "needs_background": "light"
          }
        }
      ]
    },
    {
      "cell_type": "code",
      "metadata": {
        "id": "6LsPlLhUmJq6",
        "colab": {
          "base_uri": "https://localhost:8080/",
          "height": 746
        },
        "outputId": "acad78b8-5f1d-4722-fb87-71b26bdada7e"
      },
      "source": [
        "sns.FacetGrid(data, hue='status_group',height=10).map(sns.kdeplot, 'gps_height', shade=True)"
      ],
      "execution_count": 153,
      "outputs": [
        {
          "output_type": "execute_result",
          "data": {
            "text/plain": [
              "<seaborn.axisgrid.FacetGrid at 0x7fe95c326990>"
            ]
          },
          "metadata": {},
          "execution_count": 153
        },
        {
          "output_type": "display_data",
          "data": {
            "image/png": "[encoded data removed]",
            "text/plain": [
              "<Figure size 720x720 with 1 Axes>"
            ]
          },
          "metadata": {
            "needs_background": "light"
          }
        }
      ]
    },
    {
      "cell_type": "code",
      "metadata": {
        "id": "k9RT8NZOmJq8",
        "colab": {
          "base_uri": "https://localhost:8080/",
          "height": 746
        },
        "outputId": "c3b84e6b-99b2-4850-bfa7-e248e676f045"
      },
      "source": [
        "sns.FacetGrid(data, hue='status_group',height=10).map(sns.kdeplot, 'latitude', shade=True).add_legend()"
      ],
      "execution_count": 154,
      "outputs": [
        {
          "output_type": "execute_result",
          "data": {
            "text/plain": [
              "<seaborn.axisgrid.FacetGrid at 0x7fe95c331750>"
            ]
          },
          "metadata": {},
          "execution_count": 154
        },
        {
          "output_type": "display_data",
          "data": {
            "image/png": "[encoded data removed]",
            "text/plain": [
              "<Figure size 871.875x720 with 1 Axes>"
            ]
          },
          "metadata": {
            "needs_background": "light"
          }
        }
      ]
    },
    {
      "cell_type": "code",
      "metadata": {
        "id": "huVixN5amJrB",
        "colab": {
          "base_uri": "https://localhost:8080/",
          "height": 746
        },
        "outputId": "c9453372-6901-470b-8bef-731eddc4a16b"
      },
      "source": [
        "sns.FacetGrid(data, hue='status_group',height=10).map(sns.kdeplot, 'longitude', shade=True).add_legend()"
      ],
      "execution_count": 155,
      "outputs": [
        {
          "output_type": "execute_result",
          "data": {
            "text/plain": [
              "<seaborn.axisgrid.FacetGrid at 0x7fe965ef8d90>"
            ]
          },
          "metadata": {},
          "execution_count": 155
        },
        {
          "output_type": "display_data",
          "data": {
            "image/png": "[encoded data removed]",
            "text/plain": [
              "<Figure size 871.875x720 with 1 Axes>"
            ]
          },
          "metadata": {
            "needs_background": "light"
          }
        }
      ]
    },
    {
      "cell_type": "code",
      "metadata": {
        "id": "syzwKZ5hFI2w"
      },
      "source": [
        "data['longitude'].replace(0.0, np.nan, inplace=True)"
      ],
      "execution_count": 156,
      "outputs": []
    },
    {
      "cell_type": "code",
      "metadata": {
        "id": "0L5uJMy8mJrG",
        "colab": {
          "base_uri": "https://localhost:8080/",
          "height": 569
        },
        "outputId": "68380745-5f81-49a2-93ea-b50de285bc90"
      },
      "source": [
        "plt.figure(figsize=(14, 9))\n",
        "\n",
        "sns.countplot(data=data,x='source_type',hue='status_group')"
      ],
      "execution_count": 159,
      "outputs": [
        {
          "output_type": "execute_result",
          "data": {
            "text/plain": [
              "<matplotlib.axes._subplots.AxesSubplot at 0x7fe95c3d7b10>"
            ]
          },
          "metadata": {},
          "execution_count": 159
        },
        {
          "output_type": "display_data",
          "data": {
            "image/png": "[encoded data removed]",
            "text/plain": [
              "<Figure size 1008x648 with 1 Axes>"
            ]
          },
          "metadata": {
            "needs_background": "light"
          }
        }
      ]
    },
    {
      "cell_type": "code",
      "metadata": {
        "id": "BKH_XjjKmJrL",
        "colab": {
          "base_uri": "https://localhost:8080/",
          "height": 458
        },
        "outputId": "e2ca0c22-30e5-48d6-c4d4-575f35a7f936"
      },
      "source": [
        "plt.figure(figsize=(24, 9))\n",
        "\n",
        "sns.countplot(data=data,x='extraction_type_group',hue='status_group')"
      ],
      "execution_count": 160,
      "outputs": [
        {
          "output_type": "execute_result",
          "data": {
            "text/plain": [
              "<matplotlib.axes._subplots.AxesSubplot at 0x7fe95bec67d0>"
            ]
          },
          "metadata": {},
          "execution_count": 160
        },
        {
          "output_type": "display_data",
          "data": {
            "image/png": "[encoded data removed]",
            "text/plain": [
              "<Figure size 1728x648 with 1 Axes>"
            ]
          },
          "metadata": {
            "needs_background": "light"
          }
        }
      ]
    },
    {
      "cell_type": "code",
      "metadata": {
        "id": "OAkVaLU5mJrN",
        "colab": {
          "base_uri": "https://localhost:8080/",
          "height": 458
        },
        "outputId": "8f67c4ea-46f0-47e8-e11e-cada4f197a9e"
      },
      "source": [
        "plt.figure(figsize=(24, 9))\n",
        "\n",
        "sns.countplot(data=data,x='extraction_type_class',hue='status_group')"
      ],
      "execution_count": 161,
      "outputs": [
        {
          "output_type": "execute_result",
          "data": {
            "text/plain": [
              "<matplotlib.axes._subplots.AxesSubplot at 0x7fe95c0bbc90>"
            ]
          },
          "metadata": {},
          "execution_count": 161
        },
        {
          "output_type": "display_data",
          "data": {
            "image/png": "[encoded data removed]",
            "text/plain": [
              "<Figure size 1728x648 with 1 Axes>"
            ]
          },
          "metadata": {
            "needs_background": "light"
          }
        }
      ]
    },
    {
      "cell_type": "code",
      "metadata": {
        "id": "d_h4Y1iamJrS",
        "colab": {
          "base_uri": "https://localhost:8080/",
          "height": 458
        },
        "outputId": "6f9becb4-c082-493b-8ec5-6049493790f2"
      },
      "source": [
        "plt.figure(figsize=(24, 9))\n",
        "\n",
        "sns.countplot(data=data,x='waterpoint_type',hue='status_group')"
      ],
      "execution_count": 162,
      "outputs": [
        {
          "output_type": "execute_result",
          "data": {
            "text/plain": [
              "<matplotlib.axes._subplots.AxesSubplot at 0x7fe95be52bd0>"
            ]
          },
          "metadata": {},
          "execution_count": 162
        },
        {
          "output_type": "display_data",
          "data": {
            "image/png": "[encoded data removed]",
            "text/plain": [
              "<Figure size 1728x648 with 1 Axes>"
            ]
          },
          "metadata": {
            "needs_background": "light"
          }
        }
      ]
    },
    {
      "cell_type": "code",
      "metadata": {
        "id": "hBPpII4hmJrT",
        "colab": {
          "base_uri": "https://localhost:8080/",
          "height": 568
        },
        "outputId": "d35c0007-e193-4893-b635-39cbe09170af"
      },
      "source": [
        "plt.figure(figsize=(14, 9))\n",
        "\n",
        "sns.countplot(data=data,x='quantity',hue='status_group')"
      ],
      "execution_count": 163,
      "outputs": [
        {
          "output_type": "execute_result",
          "data": {
            "text/plain": [
              "<matplotlib.axes._subplots.AxesSubplot at 0x7fe95bde5d90>"
            ]
          },
          "metadata": {},
          "execution_count": 163
        },
        {
          "output_type": "display_data",
          "data": {
            "image/png": "[encoded data removed]",
            "text/plain": [
              "<Figure size 1008x648 with 1 Axes>"
            ]
          },
          "metadata": {
            "needs_background": "light"
          }
        }
      ]
    },
    {
      "cell_type": "code",
      "metadata": {
        "id": "llDwxX7JmJrW",
        "colab": {
          "base_uri": "https://localhost:8080/"
        },
        "outputId": "ce749dd6-0e97-414f-e363-943b2dd2b33b"
      },
      "source": [
        "data.groupby(['district_code', 'region','construction_year']).size() "
      ],
      "execution_count": 164,
      "outputs": [
        {
          "output_type": "execute_result",
          "data": {
            "text/plain": [
              "district_code  region     construction_year\n",
              "0              Dodoma     0                     23\n",
              "1              Arusha     0                      3\n",
              "                          1980                   2\n",
              "                          1990                  23\n",
              "                          2000                 137\n",
              "                                              ... \n",
              "63             Mtwara     2011                   2\n",
              "                          2012                   8\n",
              "               Pwani      0                     37\n",
              "67             Pwani      0                      6\n",
              "80             Shinyanga  0                     12\n",
              "Length: 2374, dtype: int64"
            ]
          },
          "metadata": {},
          "execution_count": 164
        }
      ]
    },
    {
      "cell_type": "code",
      "metadata": {
        "id": "teM1RnpjFySz"
      },
      "source": [
        "data[\"latitude\"].fillna(data.groupby(['region', 'district_code'])[\"latitude\"].transform(\"mean\"), inplace=True)\n",
        "data[\"latitude\"].fillna(data.groupby(['region'])[\"latitude\"].transform(\"mean\"), inplace=True)"
      ],
      "execution_count": 166,
      "outputs": []
    },
    {
      "cell_type": "code",
      "metadata": {
        "colab": {
          "base_uri": "https://localhost:8080/"
        },
        "id": "Dz8iPGIouPu0",
        "outputId": "d9cd6792-a903-425b-c7a3-c484f0966a15"
      },
      "source": [
        "data[\"latitude\"].value_counts()"
      ],
      "execution_count": 168,
      "outputs": [
        {
          "output_type": "execute_result",
          "data": {
            "text/plain": [
              "-2.000000e-08    1812\n",
              "-6.985842e+00       2\n",
              "-3.797579e+00       2\n",
              "-6.981884e+00       2\n",
              "-7.104625e+00       2\n",
              "                 ... \n",
              "-5.726001e+00       1\n",
              "-9.646831e+00       1\n",
              "-8.124530e+00       1\n",
              "-2.535985e+00       1\n",
              "-2.598965e+00       1\n",
              "Name: latitude, Length: 57517, dtype: int64"
            ]
          },
          "metadata": {},
          "execution_count": 168
        }
      ]
    },
    {
      "cell_type": "code",
      "metadata": {
        "id": "3G5-tHYdF4bj"
      },
      "source": [
        "data[\"longitude\"].fillna(data.groupby(['region', 'district_code'])[\"longitude\"].transform(\"mean\"), inplace=True)\n",
        "data[\"longitude\"].fillna(data.groupby(['region'])[\"longitude\"].transform(\"mean\"), inplace=True)"
      ],
      "execution_count": null,
      "outputs": []
    },
    {
      "cell_type": "code",
      "metadata": {
        "id": "RJMFhIZyEDLE",
        "colab": {
          "base_uri": "https://localhost:8080/",
          "height": 746
        },
        "outputId": "ee76837a-d2b0-4766-cb28-54ce779e1507"
      },
      "source": [
        "sns.FacetGrid(data, hue='status_group',height=10).map(sns.kdeplot, 'construction_year', shade=True).add_legend()"
      ],
      "execution_count": 170,
      "outputs": [
        {
          "output_type": "execute_result",
          "data": {
            "text/plain": [
              "<seaborn.axisgrid.FacetGrid at 0x7fe95b7c3bd0>"
            ]
          },
          "metadata": {},
          "execution_count": 170
        },
        {
          "output_type": "display_data",
          "data": {
            "image/png": "[encoded data removed]",
            "text/plain": [
              "<Figure size 871.875x720 with 1 Axes>"
            ]
          },
          "metadata": {
            "needs_background": "light"
          }
        }
      ]
    },
    {
      "cell_type": "code",
      "metadata": {
        "id": "xwjJrWwoFDHP"
      },
      "source": [
        "data['construction_year'].replace(0.0, np.nan, inplace=True)"
      ],
      "execution_count": 171,
      "outputs": []
    },
    {
      "cell_type": "code",
      "metadata": {
        "id": "A8MKbvUMmJrX"
      },
      "source": [
        "data[\"construction_year\"].fillna(data.groupby(['region', 'district_code'])[\"construction_year\"].transform(\"median\"), inplace=True)\n",
        "data[\"construction_year\"].fillna(data.groupby(['region'])[\"construction_year\"].transform(\"median\"), inplace=True)\n",
        "data[\"construction_year\"].fillna(data.groupby(['district_code'])[\"construction_year\"].transform(\"median\"), inplace=True)\n",
        "data[\"construction_year\"].fillna(data[\"construction_year\"].median(), inplace=True)\n"
      ],
      "execution_count": 172,
      "outputs": []
    },
    {
      "cell_type": "markdown",
      "metadata": {
        "id": "pdZiKeYR5swh"
      },
      "source": [
        "if water point is old, it is highly likely to be non functional or needs repair.\n",
        "### New features were created namely number of days and number of months water point is operational."
      ]
    },
    {
      "cell_type": "code",
      "metadata": {
        "id": "kab5D5YhmJrZ"
      },
      "source": [
        "data['date_recorded'] = pd.to_datetime(data['date_recorded'])\n",
        "data['operational_year'] = data.date_recorded.dt.year - data.construction_year"
      ],
      "execution_count": 173,
      "outputs": []
    },
    {
      "cell_type": "code",
      "metadata": {
        "id": "IV3YOngEu8-D"
      },
      "source": [
        "data['operational_month'] = data['operational_year']*12"
      ],
      "execution_count": 174,
      "outputs": []
    },
    {
      "cell_type": "code",
      "metadata": {
        "id": "m4ORJBJ0-uAM"
      },
      "source": [
        "data[\"recorded_year\"] =data.date_recorded.dt.year"
      ],
      "execution_count": 175,
      "outputs": []
    },
    {
      "cell_type": "code",
      "metadata": {
        "colab": {
          "base_uri": "https://localhost:8080/",
          "height": 490
        },
        "id": "MJjsbgGquunk",
        "outputId": "f7bb54f4-ec1d-44d0-dd18-37a6677be1a6"
      },
      "source": [
        "plt.figure(figsize=(14,6))\n",
        "sns.countplot(data=data,x='recorded_year',hue='status_group')\n",
        "plt.legend(bbox_to_anchor=(1.05, 1), loc=2, borderaxespad=0.)\n",
        "data.recorded_year.value_counts()"
      ],
      "execution_count": 176,
      "outputs": [
        {
          "output_type": "execute_result",
          "data": {
            "text/plain": [
              "2011    28674\n",
              "2013    24271\n",
              "2012     6424\n",
              "2004       30\n",
              "2002        1\n",
              "Name: recorded_year, dtype: int64"
            ]
          },
          "metadata": {},
          "execution_count": 176
        },
        {
          "output_type": "display_data",
          "data": {
            "image/png": "[encoded data removed]",
            "text/plain": [
              "<Figure size 1008x432 with 1 Axes>"
            ]
          },
          "metadata": {
            "needs_background": "light"
          }
        }
      ]
    },
    {
      "cell_type": "code",
      "metadata": {
        "id": "kTNVQ62q-s7V",
        "colab": {
          "base_uri": "https://localhost:8080/",
          "height": 297
        },
        "outputId": "5656a3d3-dec0-475d-c789-72a9c237ae45"
      },
      "source": [
        "sns.scatterplot(data=data, x=\"recorded_year\", y=\"construction_year\")"
      ],
      "execution_count": 177,
      "outputs": [
        {
          "output_type": "execute_result",
          "data": {
            "text/plain": [
              "<matplotlib.axes._subplots.AxesSubplot at 0x7fe95b659a90>"
            ]
          },
          "metadata": {},
          "execution_count": 177
        },
        {
          "output_type": "display_data",
          "data": {
            "image/png": "[encoded data removed]",
            "text/plain": [
              "<Figure size 432x288 with 1 Axes>"
            ]
          },
          "metadata": {
            "needs_background": "light"
          }
        }
      ]
    },
    {
      "cell_type": "code",
      "metadata": {
        "id": "GHr-8zHAmJrf",
        "colab": {
          "base_uri": "https://localhost:8080/",
          "height": 1000
        },
        "outputId": "fd1dd32d-570e-4989-b06e-293049285741"
      },
      "source": [
        "sns.FacetGrid(data, hue='status_group',height=14).map(sns.kdeplot, 'operational_year', shade=True).add_legend()"
      ],
      "execution_count": 178,
      "outputs": [
        {
          "output_type": "execute_result",
          "data": {
            "text/plain": [
              "<seaborn.axisgrid.FacetGrid at 0x7fe95ba817d0>"
            ]
          },
          "metadata": {},
          "execution_count": 178
        },
        {
          "output_type": "display_data",
          "data": {
            "image/png": "[encoded data removed]",
            "text/plain": [
              "<Figure size 1159.88x1008 with 1 Axes>"
            ]
          },
          "metadata": {
            "needs_background": "light"
          }
        }
      ]
    },
    {
      "cell_type": "code",
      "metadata": {
        "id": "GNSIqhT4GNL4"
      },
      "source": [
        "col_drop.append(\"date_recorded\")"
      ],
      "execution_count": 179,
      "outputs": []
    },
    {
      "cell_type": "code",
      "metadata": {
        "id": "DeAOaBbYGeqv",
        "colab": {
          "base_uri": "https://localhost:8080/"
        },
        "outputId": "9f11579e-81f3-459b-eb0f-73e2eab86ea5"
      },
      "source": [
        "data.groupby(['payment', 'payment_type']).size() "
      ],
      "execution_count": 180,
      "outputs": [
        {
          "output_type": "execute_result",
          "data": {
            "text/plain": [
              "payment                payment_type\n",
              "never pay              never pay       25348\n",
              "other                  other            1054\n",
              "pay annually           annually         3642\n",
              "pay monthly            monthly          8300\n",
              "pay per bucket         per bucket       8985\n",
              "pay when scheme fails  on failure       3914\n",
              "unknown                unknown          8157\n",
              "dtype: int64"
            ]
          },
          "metadata": {},
          "execution_count": 180
        }
      ]
    },
    {
      "cell_type": "code",
      "metadata": {
        "id": "M1d_ugGvG5N5"
      },
      "source": [
        "col_drop.append(\"payment\")"
      ],
      "execution_count": 181,
      "outputs": []
    },
    {
      "cell_type": "code",
      "metadata": {
        "id": "JFvOKoIimJr1",
        "colab": {
          "base_uri": "https://localhost:8080/"
        },
        "outputId": "d66cc288-ed07-4118-95a5-ab247138813b"
      },
      "source": [
        "print(data.groupby(['extraction_type_group','extraction_type_class','extraction_type']).size()   )   "
      ],
      "execution_count": 182,
      "outputs": [
        {
          "output_type": "stream",
          "name": "stdout",
          "text": [
            "extraction_type_group  extraction_type_class  extraction_type          \n",
            "afridev                handpump               afridev                       1770\n",
            "gravity                gravity                gravity                      26780\n",
            "india mark ii          handpump               india mark ii                 2400\n",
            "india mark iii         handpump               india mark iii                  98\n",
            "mono                   motorpump              mono                          2865\n",
            "nira/tanira            handpump               nira/tanira                   8154\n",
            "other                  other                  other                         6430\n",
            "other handpump         handpump               other - mkulima/shinyanga        2\n",
            "                                              other - play pump               85\n",
            "                                              other - swn 81                 229\n",
            "                                              walimi                          48\n",
            "other motorpump        motorpump              cemo                            90\n",
            "                                              climax                          32\n",
            "rope pump              rope pump              other - rope pump              451\n",
            "submersible            submersible            ksb                           1415\n",
            "                                              submersible                   4764\n",
            "swn 80                 handpump               swn 80                        3670\n",
            "wind-powered           wind-powered           windmill                       117\n",
            "dtype: int64\n"
          ]
        }
      ]
    },
    {
      "cell_type": "code",
      "metadata": {
        "id": "yNIi8Zi7GwhT"
      },
      "source": [
        "col_drop.append(\"extraction_type_group\")\n",
        "col_drop.append(\"extraction_type_class\")"
      ],
      "execution_count": 183,
      "outputs": []
    },
    {
      "cell_type": "code",
      "metadata": {
        "id": "rzXMw2ZFHXep",
        "colab": {
          "base_uri": "https://localhost:8080/"
        },
        "outputId": "dc448198-8d22-4b5f-e605-3d7f74fa79e8"
      },
      "source": [
        "print(data.groupby(['management', 'management_group']).size() )"
      ],
      "execution_count": 184,
      "outputs": [
        {
          "output_type": "stream",
          "name": "stdout",
          "text": [
            "management        management_group\n",
            "company           commercial            685\n",
            "other             other                 844\n",
            "other - school    other                  99\n",
            "parastatal        parastatal           1768\n",
            "private operator  commercial           1971\n",
            "trust             commercial             78\n",
            "unknown           unknown               561\n",
            "vwc               user-group          40507\n",
            "water authority   commercial            904\n",
            "water board       user-group           2933\n",
            "wua               user-group           2535\n",
            "wug               user-group           6515\n",
            "dtype: int64\n"
          ]
        }
      ]
    },
    {
      "cell_type": "code",
      "metadata": {
        "id": "yRyjFxR9HZcb"
      },
      "source": [
        "col_drop.append(\"management_group\")"
      ],
      "execution_count": 185,
      "outputs": []
    },
    {
      "cell_type": "code",
      "metadata": {
        "id": "rpgcm5f0mJr_",
        "colab": {
          "base_uri": "https://localhost:8080/"
        },
        "outputId": "67ac9f7c-8188-4e7b-b511-31aed55136ea"
      },
      "source": [
        "data.groupby(['water_quality', 'quality_group']).size() "
      ],
      "execution_count": 186,
      "outputs": [
        {
          "output_type": "execute_result",
          "data": {
            "text/plain": [
              "water_quality       quality_group\n",
              "coloured            colored            490\n",
              "fluoride            fluoride           200\n",
              "fluoride abandoned  fluoride            17\n",
              "milky               milky              804\n",
              "salty               salty             4856\n",
              "salty abandoned     salty              339\n",
              "soft                good             50818\n",
              "unknown             unknown           1876\n",
              "dtype: int64"
            ]
          },
          "metadata": {},
          "execution_count": 186
        }
      ]
    },
    {
      "cell_type": "code",
      "metadata": {
        "id": "_v4hId6tHt2Y"
      },
      "source": [
        "col_drop.append(\"quality_group\")"
      ],
      "execution_count": 187,
      "outputs": []
    },
    {
      "cell_type": "code",
      "metadata": {
        "id": "Cdn29XTQmJsC",
        "colab": {
          "base_uri": "https://localhost:8080/"
        },
        "outputId": "deb194f7-18af-4ae3-8319-3d9d01ad751f"
      },
      "source": [
        "data.groupby(['quantity', 'quantity_group']).size() "
      ],
      "execution_count": 188,
      "outputs": [
        {
          "output_type": "execute_result",
          "data": {
            "text/plain": [
              "quantity      quantity_group\n",
              "dry           dry                6246\n",
              "enough        enough            33186\n",
              "insufficient  insufficient      15129\n",
              "seasonal      seasonal           4050\n",
              "unknown       unknown             789\n",
              "dtype: int64"
            ]
          },
          "metadata": {},
          "execution_count": 188
        }
      ]
    },
    {
      "cell_type": "code",
      "metadata": {
        "id": "N8h1TuSwH8kn"
      },
      "source": [
        "col_drop.append(\"quantity_group\")"
      ],
      "execution_count": 189,
      "outputs": []
    },
    {
      "cell_type": "code",
      "metadata": {
        "id": "EOsbzoYxmJsK",
        "colab": {
          "base_uri": "https://localhost:8080/"
        },
        "outputId": "c9d4b4db-d818-4d9a-9a75-3471dd154d38"
      },
      "source": [
        "data.groupby(['source', 'source_type', 'source_class']).size() "
      ],
      "execution_count": 190,
      "outputs": [
        {
          "output_type": "execute_result",
          "data": {
            "text/plain": [
              "source                source_type           source_class\n",
              "dam                   dam                   surface           656\n",
              "hand dtw              borehole              groundwater       874\n",
              "lake                  river/lake            surface           765\n",
              "machine dbh           borehole              groundwater     11075\n",
              "other                 other                 unknown           212\n",
              "rainwater harvesting  rainwater harvesting  surface          2295\n",
              "river                 river/lake            surface          9612\n",
              "shallow well          shallow well          groundwater     16824\n",
              "spring                spring                groundwater     17021\n",
              "unknown               other                 unknown            66\n",
              "dtype: int64"
            ]
          },
          "metadata": {},
          "execution_count": 190
        }
      ]
    },
    {
      "cell_type": "code",
      "metadata": {
        "id": "yMTKBaCEINd6"
      },
      "source": [
        "col_drop.append(\"source_type\")\n",
        "col_drop.append(\"source_class\")"
      ],
      "execution_count": 191,
      "outputs": []
    },
    {
      "cell_type": "code",
      "metadata": {
        "id": "CEzwMrVcwTZX"
      },
      "source": [
        ".to_frame(name='counts').query('counts > 0')"
      ],
      "execution_count": null,
      "outputs": []
    },
    {
      "cell_type": "code",
      "metadata": {
        "colab": {
          "base_uri": "https://localhost:8080/"
        },
        "id": "8I-nne7CmJsm",
        "outputId": "96d6e1a4-a226-4a36-825d-2a3442a5c77f"
      },
      "source": [
        "data[\"funder\"].fillna(\"other\", inplace=True)\n",
        "data[\"scheme_management\"].fillna(\"other\", inplace=True)\n",
        "data[\"installer\"].fillna(\"other\", inplace=True)\n",
        "\n",
        "print(data.isnull().sum().to_frame(name='counts').query('counts > 0'))"
      ],
      "execution_count": 194,
      "outputs": [
        {
          "output_type": "stream",
          "name": "stdout",
          "text": [
            "                counts\n",
            "longitude         1812\n",
            "subvillage         371\n",
            "public_meeting    3334\n",
            "scheme_name      28166\n",
            "permit            3056\n"
          ]
        }
      ]
    },
    {
      "cell_type": "code",
      "metadata": {
        "colab": {
          "base_uri": "https://localhost:8080/",
          "height": 417
        },
        "id": "CnpFYxRsw67i",
        "outputId": "da085b76-61fd-4c86-94af-f893ea93be41"
      },
      "source": [
        "data.funder.value_counts().to_frame(name='counts').query('counts >30')"
      ],
      "execution_count": 199,
      "outputs": [
        {
          "output_type": "execute_result",
          "data": {
            "text/html": [
              "<div>\n",
              "<style scoped>\n",
              "    .dataframe tbody tr th:only-of-type {\n",
              "        vertical-align: middle;\n",
              "    }\n",
              "\n",
              "    .dataframe tbody tr th {\n",
              "        vertical-align: top;\n",
              "    }\n",
              "\n",
              "    .dataframe thead th {\n",
              "        text-align: right;\n",
              "    }\n",
              "</style>\n",
              "<table border=\"1\" class=\"dataframe\">\n",
              "  <thead>\n",
              "    <tr style=\"text-align: right;\">\n",
              "      <th></th>\n",
              "      <th>counts</th>\n",
              "    </tr>\n",
              "  </thead>\n",
              "  <tbody>\n",
              "    <tr>\n",
              "      <th>Government Of Tanzania</th>\n",
              "      <td>9084</td>\n",
              "    </tr>\n",
              "    <tr>\n",
              "      <th>other</th>\n",
              "      <td>3635</td>\n",
              "    </tr>\n",
              "    <tr>\n",
              "      <th>Danida</th>\n",
              "      <td>3114</td>\n",
              "    </tr>\n",
              "    <tr>\n",
              "      <th>Hesawa</th>\n",
              "      <td>2202</td>\n",
              "    </tr>\n",
              "    <tr>\n",
              "      <th>Rwssp</th>\n",
              "      <td>1374</td>\n",
              "    </tr>\n",
              "    <tr>\n",
              "      <th>...</th>\n",
              "      <td>...</td>\n",
              "    </tr>\n",
              "    <tr>\n",
              "      <th>Tuwasa</th>\n",
              "      <td>32</td>\n",
              "    </tr>\n",
              "    <tr>\n",
              "      <th>Kiuma</th>\n",
              "      <td>32</td>\n",
              "    </tr>\n",
              "    <tr>\n",
              "      <th>Kanisa Katoliki Lolovoni</th>\n",
              "      <td>31</td>\n",
              "    </tr>\n",
              "    <tr>\n",
              "      <th>The Desk And Chair Foundat</th>\n",
              "      <td>31</td>\n",
              "    </tr>\n",
              "    <tr>\n",
              "      <th>Biore</th>\n",
              "      <td>31</td>\n",
              "    </tr>\n",
              "  </tbody>\n",
              "</table>\n",
              "<p>197 rows × 1 columns</p>\n",
              "</div>"
            ],
            "text/plain": [
              "                            counts\n",
              "Government Of Tanzania        9084\n",
              "other                         3635\n",
              "Danida                        3114\n",
              "Hesawa                        2202\n",
              "Rwssp                         1374\n",
              "...                            ...\n",
              "Tuwasa                          32\n",
              "Kiuma                           32\n",
              "Kanisa Katoliki Lolovoni        31\n",
              "The Desk And Chair Foundat      31\n",
              "Biore                           31\n",
              "\n",
              "[197 rows x 1 columns]"
            ]
          },
          "metadata": {},
          "execution_count": 199
        }
      ]
    },
    {
      "cell_type": "code",
      "metadata": {
        "id": "f14fISatxOrd"
      },
      "source": [
        "frequencies = data.funder.value_counts(normalize=True, ascending=True)\n",
        "threshold = frequencies[(frequencies.cumsum() > 0.1).idxmax()]"
      ],
      "execution_count": 200,
      "outputs": []
    },
    {
      "cell_type": "code",
      "metadata": {
        "id": "O7sOF6V1yJDk"
      },
      "source": [
        "data['funder']=data['funder'].mask(data['funder'].map(data['funder'].value_counts(normalize=True)) < threshold, 'Other')"
      ],
      "execution_count": 206,
      "outputs": []
    },
    {
      "cell_type": "code",
      "metadata": {
        "id": "MnznGGWNwEjv"
      },
      "source": [
        "# # remove other unrelated features \n",
        "# col_drop.append(\"wpt_name\")\n",
        "# col_drop.append(\"num_private\")\n",
        "col_drop.append(\"subvillage\")\n",
        "# col_drop.append(\"region_code\")\n",
        "# col_drop.append(\"recorded_by\")\n",
        "# col_drop.append(\"public_meeting\")\n",
        "# col_drop.append(\"permit\")\n",
        "# col_drop.append(\"waterpoint_type_group\")"
      ],
      "execution_count": null,
      "outputs": []
    },
    {
      "cell_type": "code",
      "metadata": {
        "id": "T5sKHaYnxmNb"
      },
      "source": [
        "# col_drop.append(\"funder\")"
      ],
      "execution_count": null,
      "outputs": []
    },
    {
      "cell_type": "code",
      "metadata": {
        "colab": {
          "base_uri": "https://localhost:8080/"
        },
        "id": "IjAzH3Eyszie",
        "outputId": "b5ca5d17-fa69-4d36-9062-9cd984a23b3a"
      },
      "source": [
        "col_drop"
      ],
      "execution_count": 207,
      "outputs": [
        {
          "output_type": "execute_result",
          "data": {
            "text/plain": [
              "['waterpoint_type_group',\n",
              " 'installer',\n",
              " 'scheme_name',\n",
              " 'date_recorded',\n",
              " 'payment',\n",
              " 'extraction_type_group',\n",
              " 'extraction_type_class',\n",
              " 'management_group',\n",
              " 'quality_group',\n",
              " 'quantity_group',\n",
              " 'source_type',\n",
              " 'source_class']"
            ]
          },
          "metadata": {},
          "execution_count": 207
        }
      ]
    },
    {
      "cell_type": "code",
      "metadata": {
        "colab": {
          "base_uri": "https://localhost:8080/"
        },
        "id": "viNpe-rcs90T",
        "outputId": "4941a570-b85f-4262-a968-e947eeeea885"
      },
      "source": [
        "data.info()"
      ],
      "execution_count": 208,
      "outputs": [
        {
          "output_type": "stream",
          "name": "stdout",
          "text": [
            "<class 'pandas.core.frame.DataFrame'>\n",
            "Int64Index: 59400 entries, 0 to 59399\n",
            "Data columns (total 44 columns):\n",
            " #   Column                 Non-Null Count  Dtype         \n",
            "---  ------                 --------------  -----         \n",
            " 0   id                     59400 non-null  int64         \n",
            " 1   amount_tsh             59400 non-null  float64       \n",
            " 2   date_recorded          59400 non-null  datetime64[ns]\n",
            " 3   funder                 59400 non-null  object        \n",
            " 4   gps_height             59400 non-null  float64       \n",
            " 5   installer              59400 non-null  object        \n",
            " 6   longitude              57588 non-null  float64       \n",
            " 7   latitude               59400 non-null  float64       \n",
            " 8   wpt_name               59400 non-null  object        \n",
            " 9   num_private            59400 non-null  int64         \n",
            " 10  basin                  59400 non-null  object        \n",
            " 11  subvillage             59029 non-null  object        \n",
            " 12  region                 59400 non-null  object        \n",
            " 13  region_code            59400 non-null  int64         \n",
            " 14  district_code          59400 non-null  int64         \n",
            " 15  lga                    59400 non-null  object        \n",
            " 16  ward                   59400 non-null  object        \n",
            " 17  population             59400 non-null  float64       \n",
            " 18  public_meeting         56066 non-null  object        \n",
            " 19  recorded_by            59400 non-null  object        \n",
            " 20  scheme_management      59400 non-null  object        \n",
            " 21  scheme_name            31234 non-null  object        \n",
            " 22  permit                 56344 non-null  object        \n",
            " 23  construction_year      59400 non-null  float64       \n",
            " 24  extraction_type        59400 non-null  object        \n",
            " 25  extraction_type_group  59400 non-null  object        \n",
            " 26  extraction_type_class  59400 non-null  object        \n",
            " 27  management             59400 non-null  object        \n",
            " 28  management_group       59400 non-null  object        \n",
            " 29  payment                59400 non-null  object        \n",
            " 30  payment_type           59400 non-null  object        \n",
            " 31  water_quality          59400 non-null  object        \n",
            " 32  quality_group          59400 non-null  object        \n",
            " 33  quantity               59400 non-null  object        \n",
            " 34  quantity_group         59400 non-null  object        \n",
            " 35  source                 59400 non-null  object        \n",
            " 36  source_type            59400 non-null  object        \n",
            " 37  source_class           59400 non-null  object        \n",
            " 38  waterpoint_type        59400 non-null  object        \n",
            " 39  waterpoint_type_group  59400 non-null  object        \n",
            " 40  status_group           59400 non-null  object        \n",
            " 41  operational_year       59400 non-null  float64       \n",
            " 42  operational_month      59400 non-null  float64       \n",
            " 43  recorded_year          59400 non-null  int64         \n",
            "dtypes: datetime64[ns](1), float64(8), int64(5), object(30)\n",
            "memory usage: 22.9+ MB\n"
          ]
        }
      ]
    },
    {
      "cell_type": "markdown",
      "metadata": {
        "id": "W7hi_i2P_jax"
      },
      "source": [
        "## Experimenting with the dataTraining"
      ]
    },
    {
      "cell_type": "code",
      "metadata": {
        "id": "xN2vWu6Bt8KV"
      },
      "source": [
        "# obj_column = data.columns[data.dtypes == \"object\"].values"
      ],
      "execution_count": null,
      "outputs": []
    },
    {
      "cell_type": "code",
      "metadata": {
        "colab": {
          "base_uri": "https://localhost:8080/"
        },
        "id": "EcwnLtRzuAHh",
        "outputId": "febc57c7-c837-40d6-ea84-5a0a351061b2"
      },
      "source": [
        "# obj_column"
      ],
      "execution_count": null,
      "outputs": [
        {
          "output_type": "execute_result",
          "data": {
            "text/plain": [
              "array(['basin', 'region', 'scheme_management', 'extraction_type',\n",
              "       'management', 'payment_type', 'water_quality', 'quantity',\n",
              "       'source', 'waterpoint_type', 'status_group'], dtype=object)"
            ]
          },
          "metadata": {},
          "execution_count": 109
        }
      ]
    },
    {
      "cell_type": "code",
      "metadata": {
        "id": "o3o8-3XdwDC7"
      },
      "source": [
        "# for i in obj_column:\n",
        "#   print(i,\":\",data[i].unique(),)"
      ],
      "execution_count": null,
      "outputs": []
    },
    {
      "cell_type": "code",
      "metadata": {
        "id": "SqqJuRLMwkAj"
      },
      "source": [
        "# categorical_encoding={ \n",
        "#     \"basin\" : ['Lake Nyasa' ,'Lake Victoria' ,'Pangani', 'Ruvuma / Southern Coast','Internal' ,'Lake Tanganyika' ,'Wami / Ruvu' ,'Rufiji' ,'Lake Rukwa']\n",
        "#     ,\"region\" : ['Iringa', 'Mara', 'Manyara', 'Mtwara' ,'Kagera', 'Tanga' ,'Shinyanga' ,'Tabora','Pwani', 'Ruvuma' ,'Kilimanjaro', 'Rukwa' ,'Mwanza' ,'Kigoma', 'Lindi' ,'Dodoma','Arusha', 'Mbeya' ,'Singida' ,'Morogoro', 'Dar es Salaam']\n",
        "#     ,\"scheme_management\" : ['VWC', 'Other', 'other' ,'Private operator', 'WUG', 'Water Board', 'WUA','Water authority', 'Company' ,'Parastatal', 'Trust', 'SWC' ,'None']\n",
        "#     ,\"extraction_type\" : ['gravity' ,'submersible', 'swn 80', 'nira/tanira' ,'india mark ii', 'other','ksb' ,'mono' ,'windmill' ,'afridev' ,'other - rope pump', 'india mark iii', 'other - swn 81' ,'other - play pump' ,'cemo', 'climax' ,'walimi','other - mkulima/shinyanga']\n",
        "#     ,\"management\" : ['vwc' ,'wug' ,'other' ,'private operator' ,'water board' ,'wua', 'company','water authority', 'parastatal' ,'unknown' ,'other - school', 'trust']\n",
        "#     ,\"payment_type\" : ['annually' ,'never pay', 'per bucket', 'unknown' ,'on failure', 'other','monthly']\n",
        "#     ,\"water_quality\" : ['soft', 'salty', 'milky' ,'unknown', 'fluoride', 'coloured' ,'salty abandoned','fluoride abandoned']\n",
        "#     ,\"quantity\" : ['enough', 'insufficient', 'dry' ,'seasonal' ,'unknown']\n",
        "#     ,\"source\" : ['spring' ,'rainwater harvesting' ,'dam' ,'machine dbh', 'other','shallow well', 'river' ,'hand dtw' ,'lake' ,'unknown']\n",
        "#     ,\"waterpoint_type\" : ['communal standpipe' ,'communal standpipe multiple', 'hand pump', 'other','improved spring', 'cattle trough' ,'dam']\n",
        "#     ,\"status_group\" : ['functional' ,'non functional' ,'functional needs repair']\n",
        "# }"
      ],
      "execution_count": null,
      "outputs": []
    },
    {
      "cell_type": "code",
      "metadata": {
        "id": "8ZEKN4qb4gBz"
      },
      "source": [
        "# # mask out upper triangle\n",
        "# mask = np.zeros_like(df[features].corr(), dtype=np.bool)\n",
        "# mask[np.triu_indices_from(mask)] = True\n",
        "# plt.figure(figsize=(30,30))\n",
        "# sns.heatmap(df[features].corr()*100, \n",
        "#            cmap='RdBu_r', \n",
        "#            annot = True, \n",
        "#            mask = mask\n",
        "#             )"
      ],
      "execution_count": null,
      "outputs": []
    },
    {
      "cell_type": "code",
      "metadata": {
        "id": "xuSKc17IzWB8"
      },
      "source": [
        "# from sklearn import preprocessing\n",
        "# from sklearn.model_selection import train_test_split\n",
        "# # for i in obj_column:\n",
        "# #   print(i,)\n",
        "# #   le = preprocessing.LabelEncoder()\n",
        "# #   le.fit(categorical_encoding[i])\n",
        "# #   data[i]=le.transform(data[i])"
      ],
      "execution_count": null,
      "outputs": []
    },
    {
      "cell_type": "code",
      "metadata": {
        "id": "UwBZ4NsRtg2R"
      },
      "source": [
        "# data.drop(columns=col_drop,inplace=True)"
      ],
      "execution_count": null,
      "outputs": []
    },
    {
      "cell_type": "code",
      "metadata": {
        "id": "fsf-iBbTthqP"
      },
      "source": [
        "# from sklearn import preprocessing\n",
        "# from sklearn.model_selection import train_test_split\n",
        "#  X_train, X_val, y_train, y_val = train_test_split(\n",
        "#     data.drop(columns=[\"status_group\",\"id\"]),\n",
        "#     data[\"status_group\"],\n",
        "#     test_size=0.3,\n",
        "#     shuffle=True,\n",
        "#     stratify=data[\"status_group\"],\n",
        "#     random_state=45)"
      ],
      "execution_count": null,
      "outputs": []
    },
    {
      "cell_type": "code",
      "metadata": {
        "colab": {
          "base_uri": "https://localhost:8080/",
          "height": 351
        },
        "id": "9YYLVuwPuaRy",
        "outputId": "a9948cd3-8de8-43fb-aa65-76fea7923926"
      },
      "source": [
        "# from sklearn.ensemble import RandomForestClassifier\n",
        "# from sklearn.feature_selection import RFECV\n",
        "# from sklearn.model_selection import StratifiedKFold\n",
        "# # from sklearn.datasets import make_classification\n",
        "# # from sklearn import discriminant_analysis\n",
        "\n",
        "# clf=RandomForestClassifier(n_estimators=100,max_features='auto',random_state=9,max_depth=50,class_weight='balanced')\n",
        "# rfecv = RFECV(estimator=clf, step=1, cv=StratifiedKFold(),scoring='accuracy')\n",
        "# rfecv.fit(X_train[featurs], y_train)\n",
        "\n",
        "# print(\"Optimal number of features : %d\" % rfecv.n_features_)\n",
        "\n",
        "# plt.figure(figsize=(5,5))\n",
        "# plt.xlabel(\"Number of features selected\")\n",
        "# plt.ylabel(\"Cross validation score (nb of correct classifications)\")\n",
        "# plt.plot(range(1, len(rfecv.grid_scores_) + 1), rfecv.grid_scores_)\n",
        "# plt.show()"
      ],
      "execution_count": 52,
      "outputs": [
        {
          "output_type": "stream",
          "name": "stdout",
          "text": [
            "Optimal number of features : 86\n"
          ]
        },
        {
          "output_type": "display_data",
          "data": {
            "image/png": "[encoded data removed]",
            "text/plain": [
              "<Figure size 360x360 with 1 Axes>"
            ]
          },
          "metadata": {
            "needs_background": "light"
          }
        }
      ]
    },
    {
      "cell_type": "code",
      "metadata": {
        "colab": {
          "base_uri": "https://localhost:8080/"
        },
        "id": "vmtkXCTr2NOb",
        "outputId": "f7e0e5f8-4433-4ac5-bfff-7a1f10fa1190"
      },
      "source": [
        "# rfecv.grid_scores_"
      ],
      "execution_count": 53,
      "outputs": [
        {
          "output_type": "execute_result",
          "data": {
            "text/plain": [
              "array([0.49098124, 0.66024531, 0.66176046, 0.68816739, 0.72032227,\n",
              "       0.74177489, 0.73888889, 0.74432419, 0.7487494 , 0.76635402,\n",
              "       0.77101972, 0.77323232, 0.77727273, 0.77910053, 0.78280423,\n",
              "       0.78482443, 0.78595479, 0.78730159, 0.78662819, 0.78862434,\n",
              "       0.79037999, 0.79141414, 0.79242424, 0.79237614, 0.79297739,\n",
              "       0.79078884, 0.79297739, 0.79316979, 0.79369889, 0.79357864,\n",
              "       0.79184704, 0.79389129, 0.79427609, 0.79379509, 0.79413179,\n",
              "       0.79422799, 0.79454064, 0.79341029, 0.79319384, 0.79494949,\n",
              "       0.79292929, 0.79454064, 0.79420394, 0.79417989, 0.79456469,\n",
              "       0.79516595, 0.79456469, 0.79389129, 0.79444444, 0.79386724,\n",
              "       0.79492544, 0.79427609, 0.79449254, 0.79497354, 0.7950938 ,\n",
              "       0.79497354, 0.79502165, 0.79487734, 0.79593555, 0.79478114,\n",
              "       0.79454064, 0.79478114, 0.7950457 , 0.79511785, 0.79627225,\n",
              "       0.79564695, 0.795671  , 0.7963444 , 0.7965368 , 0.79569505,\n",
              "       0.79656085, 0.7962963 , 0.7951419 , 0.7952381 , 0.79516595,\n",
              "       0.7954305 , 0.79475709, 0.7956229 , 0.79564695, 0.79555075,\n",
              "       0.79603175, 0.79511785, 0.79490139, 0.79583935, 0.7955267 ,\n",
              "       0.79665705, 0.79425204, 0.7957191 , 0.79417989, 0.7950938 ,\n",
              "       0.7960558 , 0.7957672 , 0.79588745, 0.7957191 , 0.7953343 ,\n",
              "       0.79579125, 0.795671  , 0.79531025, 0.79521405, 0.7958153 ,\n",
              "       0.7956229 , 0.79583935, 0.7962482 , 0.79617605, 0.79603175,\n",
              "       0.79569505, 0.79499759, 0.79646465, 0.79535835, 0.79607985,\n",
              "       0.79463684, 0.79569505, 0.7951419 , 0.7963444 , 0.7962001 ,\n",
              "       0.7956229 , 0.79564695, 0.79526215])"
            ]
          },
          "metadata": {},
          "execution_count": 53
        }
      ]
    },
    {
      "cell_type": "code",
      "metadata": {
        "colab": {
          "base_uri": "https://localhost:8080/"
        },
        "id": "leBcBee02OjR",
        "outputId": "b8dbf4eb-5d33-4783-9fdc-094e572e55c6"
      },
      "source": [
        "# rfecv.support_"
      ],
      "execution_count": 54,
      "outputs": [
        {
          "output_type": "execute_result",
          "data": {
            "text/plain": [
              "array([ True,  True,  True,  True,  True,  True,  True,  True,  True,\n",
              "        True,  True,  True,  True,  True,  True,  True,  True,  True,\n",
              "       False,  True,  True,  True,  True,  True, False,  True,  True,\n",
              "        True,  True,  True,  True,  True,  True,  True,  True,  True,\n",
              "        True,  True,  True, False, False,  True, False, False, False,\n",
              "        True,  True,  True,  True,  True,  True,  True, False, False,\n",
              "        True,  True, False,  True,  True,  True,  True, False, False,\n",
              "       False, False,  True,  True, False, False,  True, False, False,\n",
              "        True,  True, False, False,  True,  True,  True,  True,  True,\n",
              "        True,  True,  True,  True,  True,  True,  True, False, False,\n",
              "       False, False,  True, False,  True,  True,  True,  True,  True,\n",
              "        True,  True, False, False, False,  True, False,  True,  True,\n",
              "        True,  True, False, False,  True,  True, False,  True,  True,\n",
              "        True])"
            ]
          },
          "metadata": {},
          "execution_count": 54
        }
      ]
    },
    {
      "cell_type": "code",
      "metadata": {
        "colab": {
          "base_uri": "https://localhost:8080/"
        },
        "id": "AF4I-QB22QGe",
        "outputId": "0af647e0-d285-4925-8009-707a32a67a52"
      },
      "source": [
        "# rfecv.ranking_"
      ],
      "execution_count": 55,
      "outputs": [
        {
          "output_type": "execute_result",
          "data": {
            "text/plain": [
              "array([ 1,  1,  1,  1,  1,  1,  1,  1,  1,  1,  1,  1,  1,  1,  1,  1,  1,\n",
              "        1, 16,  1,  1,  1,  1,  1,  2,  1,  1,  1,  1,  1,  1,  1,  1,  1,\n",
              "        1,  1,  1,  1,  1, 33, 10,  1,  6, 28, 23,  1,  1,  1,  1,  1,  1,\n",
              "        1, 24, 29,  1,  1, 17,  1,  1,  1,  1, 32, 26, 13, 14,  1,  1, 22,\n",
              "       21,  1,  3, 27,  1,  1, 18, 11,  1,  1,  1,  1,  1,  1,  1,  1,  1,\n",
              "        1,  1,  1,  7, 15, 30,  9,  1,  8,  1,  1,  1,  1,  1,  1,  1,  4,\n",
              "       12,  5,  1, 20,  1,  1,  1,  1, 25, 19,  1,  1, 31,  1,  1,  1])"
            ]
          },
          "metadata": {},
          "execution_count": 55
        }
      ]
    },
    {
      "cell_type": "code",
      "metadata": {
        "colab": {
          "base_uri": "https://localhost:8080/"
        },
        "id": "DKB1QcuW2Wmp",
        "outputId": "d3645f2a-02f4-4576-f103-9aeb65e6eb67"
      },
      "source": [
        "# rfecv_features=X_train.columns.values[rfecv.support_]\n",
        "# rfecv_features"
      ],
      "execution_count": 56,
      "outputs": [
        {
          "output_type": "execute_result",
          "data": {
            "text/plain": [
              "array(['amount_tsh', 'gps_height', 'longitude', 'latitude',\n",
              "       'district_code', 'population', 'construction_year',\n",
              "       'operational_year', 'basin_Internal', 'basin_Lake Nyasa',\n",
              "       'basin_Lake Rukwa', 'basin_Lake Tanganyika', 'basin_Lake Victoria',\n",
              "       'basin_Pangani', 'basin_Rufiji', 'basin_Ruvuma / Southern Coast',\n",
              "       'basin_Wami / Ruvu', 'region_Arusha', 'region_Dodoma',\n",
              "       'region_Iringa', 'region_Kagera', 'region_Kigoma',\n",
              "       'region_Kilimanjaro', 'region_Manyara', 'region_Mara',\n",
              "       'region_Mbeya', 'region_Morogoro', 'region_Mtwara',\n",
              "       'region_Mwanza', 'region_Pwani', 'region_Rukwa', 'region_Ruvuma',\n",
              "       'region_Shinyanga', 'region_Singida', 'region_Tabora',\n",
              "       'region_Tanga', 'scheme_management_Company',\n",
              "       'scheme_management_Parastatal', 'scheme_management_VWC',\n",
              "       'scheme_management_WUA', 'scheme_management_WUG',\n",
              "       'scheme_management_Water Board',\n",
              "       'scheme_management_Water authority', 'scheme_management_other',\n",
              "       'extraction_type_afridev', 'extraction_type_gravity',\n",
              "       'extraction_type_india mark ii', 'extraction_type_ksb',\n",
              "       'extraction_type_mono', 'extraction_type_nira/tanira',\n",
              "       'extraction_type_other', 'extraction_type_submersible',\n",
              "       'extraction_type_swn 80', 'management_company',\n",
              "       'management_parastatal', 'management_private operator',\n",
              "       'management_vwc', 'management_water authority',\n",
              "       'management_water board', 'management_wua', 'management_wug',\n",
              "       'payment_type_annually', 'payment_type_monthly',\n",
              "       'payment_type_never pay', 'payment_type_on failure',\n",
              "       'payment_type_other', 'payment_type_per bucket',\n",
              "       'payment_type_unknown', 'water_quality_salty',\n",
              "       'water_quality_soft', 'water_quality_unknown', 'quantity_dry',\n",
              "       'quantity_enough', 'quantity_insufficient', 'quantity_seasonal',\n",
              "       'quantity_unknown', 'source_machine dbh',\n",
              "       'source_rainwater harvesting', 'source_river',\n",
              "       'source_shallow well', 'source_spring',\n",
              "       'waterpoint_type_communal standpipe',\n",
              "       'waterpoint_type_communal standpipe multiple',\n",
              "       'waterpoint_type_hand pump', 'waterpoint_type_improved spring',\n",
              "       'waterpoint_type_other'], dtype=object)"
            ]
          },
          "metadata": {},
          "execution_count": 56
        }
      ]
    },
    {
      "cell_type": "code",
      "metadata": {
        "id": "vcp1Gnqt2mkT",
        "colab": {
          "base_uri": "https://localhost:8080/"
        },
        "outputId": "45173ccd-448f-4552-c1df-03916b7a7e01"
      },
      "source": [
        "# y_pred=rfecv.estimator_.predict(X_val[rfecv_features])\n",
        "# d=compute_metrics(y_pred,y_val)\n",
        "# d"
      ],
      "execution_count": 57,
      "outputs": [
        {
          "output_type": "execute_result",
          "data": {
            "text/plain": [
              "{'accuracy': 0.7970819304152638, 'confusiton_mat': array([[8446,  366,  866],\n",
              "        [ 626,  466,  203],\n",
              "        [1423,  132, 5292]]), 'f1': array([0.83735686, 0.41257193, 0.80133253]), 'precision': array([0.80476417, 0.48340249, 0.83194466]), 'recall': array([0.87270097, 0.35984556, 0.77289324])}"
            ]
          },
          "metadata": {},
          "execution_count": 57
        }
      ]
    },
    {
      "cell_type": "code",
      "metadata": {
        "colab": {
          "base_uri": "https://localhost:8080/"
        },
        "id": "rKiE1k175t0X",
        "outputId": "a6570d11-30bd-4a27-ed88-7a84ff0781cb"
      },
      "source": [
        "# print(\"{:}\\t{:}\\t{:}\\t{:}\\t{:}\\t{:}\\t{:}\".format('prec-t','prec-f', 'rec-t','rec-f','f1-t','f1-f','accu'))  # correct\n",
        "# print (\"{:.3f}\\t{:.3f}\\t{:.3f}\\t{:.3f}\\t{:.3f}\\t{:.3f}\\t{:.3f}\".format(d['precision'][0],d['precision'][1], d['recall'][0],d['recall'][1],d['f1'][0],d['f1'][1],d['accuracy']))"
      ],
      "execution_count": 41,
      "outputs": [
        {
          "output_type": "stream",
          "name": "stdout",
          "text": [
            "prec-t\tprec-f\trec-t\trec-f\tf1-t\tf1-f\taccu\n",
            "0.805\t0.483\t0.873\t0.360\t0.837\t0.413\t0.797\n"
          ]
        }
      ]
    },
    {
      "cell_type": "code",
      "metadata": {
        "id": "5bmw475R___O"
      },
      "source": [
        "# test_df[\"status_group\"]=rfecv.estimator_.predict(test_df[rfecv_features])"
      ],
      "execution_count": null,
      "outputs": []
    },
    {
      "cell_type": "code",
      "metadata": {
        "id": "Nlo4Us_PAUhX"
      },
      "source": [
        "# test_df=test_df[[\"id\",\"status_group\"]]"
      ],
      "execution_count": null,
      "outputs": []
    },
    {
      "cell_type": "code",
      "metadata": {
        "colab": {
          "base_uri": "https://localhost:8080/"
        },
        "id": "HdYVxf9ZAbj9",
        "outputId": "2405664d-f140-4423-b37b-d08465f6ea67"
      },
      "source": [
        "# test_df[\"status_group\"]=le.inverse_transform(test_df[\"status_group\"])"
      ],
      "execution_count": null,
      "outputs": [
        {
          "output_type": "stream",
          "name": "stderr",
          "text": [
            "/usr/local/lib/python3.7/dist-packages/ipykernel_launcher.py:1: SettingWithCopyWarning: \n",
            "A value is trying to be set on a copy of a slice from a DataFrame.\n",
            "Try using .loc[row_indexer,col_indexer] = value instead\n",
            "\n",
            "See the caveats in the documentation: https://pandas.pydata.org/pandas-docs/stable/user_guide/indexing.html#returning-a-view-versus-a-copy\n",
            "  \"\"\"Entry point for launching an IPython kernel.\n"
          ]
        }
      ]
    },
    {
      "cell_type": "code",
      "metadata": {
        "colab": {
          "base_uri": "https://localhost:8080/"
        },
        "id": "Tm9OBDuSAzQ1",
        "outputId": "99ef1fef-385a-45f6-8e5f-26a6ef022b3b"
      },
      "source": [
        "# test_df[\"status_group\"].value_counts()"
      ],
      "execution_count": null,
      "outputs": [
        {
          "output_type": "execute_result",
          "data": {
            "text/plain": [
              "functional                 8746\n",
              "non functional             5375\n",
              "functional needs repair     729\n",
              "Name: status_group, dtype: int64"
            ]
          },
          "metadata": {},
          "execution_count": 125
        }
      ]
    },
    {
      "cell_type": "code",
      "metadata": {
        "id": "uD72OJUoA_tN"
      },
      "source": [
        "# test_df.to_csv(\"submission1.csv\",index=False)"
      ],
      "execution_count": null,
      "outputs": []
    },
    {
      "cell_type": "code",
      "metadata": {
        "id": "g6zBEFgiR_DZ"
      },
      "source": [
        ""
      ],
      "execution_count": null,
      "outputs": []
    },
    {
      "cell_type": "markdown",
      "metadata": {
        "id": "TZsgHQIn8a89"
      },
      "source": [
        "#### try with diffenrent models"
      ]
    },
    {
      "cell_type": "code",
      "metadata": {
        "id": "f4Ya47B5CKXK"
      },
      "source": [
        "# from sklearn.linear_model import LogisticRegression\n",
        "# from sklearn.tree import DecisionTreeClassifier\n",
        "# from sklearn.ensemble import RandomForestClassifier\n",
        "# from sklearn.ensemble import GradientBoostingClassifier\n",
        "# from sklearn.ensemble import AdaBoostClassifier\n",
        "# from sklearn.ensemble import ExtraTreesClassifier\n",
        "# from sklearn.neighbors import KNeighborsClassifier\n",
        "# from sklearn.svm import SVC\n",
        "# from sklearn.naive_bayes import GaussianNB\n",
        "# from sklearn.model_selection import KFold\n",
        "# from sklearn.metrics import accuracy_score"
      ],
      "execution_count": null,
      "outputs": []
    },
    {
      "cell_type": "code",
      "metadata": {
        "id": "D0xXb1FuCS55"
      },
      "source": [
        "# classifiers=[['Logistic Regression :',LogisticRegression()],\n",
        "#        ['Decision Tree Classification :',DecisionTreeClassifier()],\n",
        "#        ['Gradient Boosting Classification :', GradientBoostingClassifier()],\n",
        "#        ['Ada Boosting Classification :',AdaBoostClassifier()],\n",
        "#        ['Extra Tree Classification :', ExtraTreesClassifier()],\n",
        "#        ['K-Neighbors Classification :',KNeighborsClassifier()],\n",
        "#        ['Support Vector Classification :',SVC()],\n",
        "#        ['Gaussian Naive Bayes :',GaussianNB()]]\n",
        "# cla_pred=[]\n",
        "# models=[]"
      ],
      "execution_count": null,
      "outputs": []
    },
    {
      "cell_type": "code",
      "metadata": {
        "id": "zkHfF_8sCVrO"
      },
      "source": [
        "# %%capture\n",
        "# for name,model1 in classifiers:\n",
        "#     print(\"-----------\"+name+\"-------------\")\n",
        "#     model1.fit(X_train[rfecv_features],y_train)\n",
        "#     predicted_y = model1.predict(X_val[rfecv_features])\n",
        "#     score=compute_metrics(predicted_y,y_val)\n",
        "#     cla_pred.append(score)"
      ],
      "execution_count": null,
      "outputs": []
    },
    {
      "cell_type": "code",
      "metadata": {
        "colab": {
          "base_uri": "https://localhost:8080/"
        },
        "id": "i96XB7V5CoI3",
        "outputId": "ca593cfb-85a5-41c2-b3dd-5c2fad8ffd3d"
      },
      "source": [
        "# #Prining the evaluation matrix to the console\n",
        "# print(\"{:}\\t{:}\\t{:}\\t{:}\\t{:}\\t{:}\\t{:}\".format('prec-t','prec-f', 'rec-t','rec-f','f1-t','f1-f','accu'))  # correct\n",
        "# for i in range(len(classifiers)):\n",
        "#   # print(\"-----------\"+classifiers[i][0]+\"-------------\")\n",
        "#   d=cla_pred[i]\n",
        "#   print (\"{:.3f}\\t{:.3f}\\t{:.3f}\\t{:.3f}\\t{:.3f}\\t{:.3f}\\t{:.3f}\".format(d['precision'][0],d['precision'][1], d['recall'][0],d['recall'][1],d['f1'][0],d['f1'][1],d['accuracy']))"
      ],
      "execution_count": null,
      "outputs": [
        {
          "output_type": "stream",
          "name": "stdout",
          "text": [
            "prec-t\tprec-f\trec-t\trec-f\tf1-t\tf1-f\taccu\n",
            "0.610\t0.000\t0.853\t0.000\t0.711\t0.000\t0.611\n",
            "0.790\t0.363\t0.799\t0.344\t0.795\t0.353\t0.749\n",
            "0.712\t0.567\t0.921\t0.089\t0.803\t0.154\t0.743\n",
            "0.695\t0.336\t0.897\t0.036\t0.783\t0.066\t0.717\n",
            "0.805\t0.454\t0.857\t0.341\t0.830\t0.389\t0.788\n",
            "0.706\t0.403\t0.821\t0.219\t0.759\t0.283\t0.694\n",
            "0.545\t0.000\t0.991\t0.000\t0.703\t0.000\t0.545\n",
            "0.673\t0.227\t0.682\t0.060\t0.678\t0.095\t0.619\n"
          ]
        }
      ]
    }
  ]
}